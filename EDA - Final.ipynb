{
 "cells": [
  {
   "cell_type": "markdown",
   "metadata": {},
   "source": [
    "## Data Analysis : Credit Card Marketing Campaign"
   ]
  },
  {
   "cell_type": "markdown",
   "metadata": {},
   "source": [
    "### Contents\n",
    "* Scenario\n",
    "* Dataset Description\n",
    "* Objective\n",
    "* A/B Testing\n",
    "* Distribution of Data\n",
    "* Identifying which factors Contributed\n",
    "* Identifying how factors Contributed\n",
    "* Steps of Hypothesis Testing\n",
    "* Null Hypothesis\n",
    "* Alternative Hypothesis\n",
    "* Results\n",
    "* Recommendations \n",
    "* Conclusion"
   ]
  },
  {
   "cell_type": "markdown",
   "metadata": {},
   "source": [
    "### Scenario\n",
    "* A large consumer bank, has recently run a direct marketing campaign by creating a video ad for credit card offers to acquire more credit card applications.\n",
    "* During the campaign they also ran a split test for landing pages. The control page is their default text-based page, while the test page features a new marketing video. \n"
   ]
  },
  {
   "cell_type": "markdown",
   "metadata": {},
   "source": [
    "### Dataset Description\n",
    "* Dataset Name : bank_direct_marketing.csv\n",
    "\n",
    "* Number of rows : 100000\n",
    "\n",
    "* Each row represents the demographics and the response of the recipients.\n",
    "\n",
    "* Number of Variables : 12\n",
    "\n",
    "* Variables Name:\n",
    "\t1. Demographics of Users : age, job, marital_status, education, gender, \n",
    "\t2. Response of Users : suggested, day_of_week, test, frequency, page_views, prev_y, y"
   ]
  },
  {
   "cell_type": "markdown",
   "metadata": {},
   "source": [
    "### Objective\n",
    "To check A/B testing and to see if the test page(with the video ad) has performed better than control page(text base)."
   ]
  },
  {
   "cell_type": "markdown",
   "metadata": {},
   "source": [
    "### Data Dictionary: \n",
    "\n",
    "**age** : type - Numerical\n",
    "      <br>Age of the recipient.\n",
    "      \n",
    "**job**\t: type - Nominal Categorical\n",
    "      <br>Job category of the recipient.\n",
    "      \n",
    "**marital**\t: type - Nominal Categorical\n",
    "          <br>Marital status of the recipient\n",
    "          \n",
    "**education** : type - Nominal Categorical\n",
    "            <br>education level of the recipient.\n",
    "            \n",
    "**gender**\t: type - Nominal Categorical\n",
    "              <br>Gender (male is 1, female is 0) of the recipient.\n",
    "              \n",
    "**suggested** : type - Nominal Categorical\n",
    "            <br>Whether the recipient is outside of the bank's original targeting parameters (i.e. suggested by algorithms).\n",
    "            \n",
    "            \n",
    "**test** : type - Nominal Categorical\n",
    "           <br>Test landing page with video (control page is 0, test page is 1)\t.\n",
    "           \n",
    "**day_of_week**\t: type - Ordinal Categorical\n",
    "                  <br>Day that recipient saw the ad.\t\n",
    "                  \n",
    "**frequency**\t: type - Numerical\n",
    "                  <br>Number of times recipient had seen the ads from campaign.\n",
    "                  \n",
    "**page_views**\t:\ttype - Numerical\n",
    "                    <br>Number of pages the recipient had viewed on the bank's website in the 90 days period prior to seeing the ad.\n",
    "                    \n",
    "**prev_y**\t: type - Nominal Categorical.\n",
    "<br>Whether the recipient had applied for a credit card after receiving a previous campaign. \n",
    "<br>0-\tNot applied for credit card.\n",
    "<br>1-\tApplied for credit card.\n",
    "<br>2-\tthe recipient has never received a previous campaign.\t\n",
    "\n",
    "**y  (*Target variable*)** : type - Categorical \n",
    "<br>Whether the recipient applied for the card.\n",
    "<br>0-\tNot applied\n",
    "<br>1-\tApplied\tNominal \n"
   ]
  },
  {
   "cell_type": "markdown",
   "metadata": {},
   "source": [
    "### A/B Testing\n",
    "A/B testing (also known as split testing or bucket testing) is a method of comparing two versions of a webpage or app against each other to determine which one performs better. AB testing is essentially an experiment where two or more variants of a page are shown to users at random, and statistical analysis is used to determine which variation performs better for a given conversion goal.\n",
    "\n",
    "### A/B Testing Working\n",
    "In an A/B test, you take a webpage or app screen and modify it to create a second version of the same page. This change can be as simple as a single headline or button, or be a complete redesign of the page. Then, half of your traffic is shown the original version of the page (known as the control) and half are shown the modified version of the page (the variation).\n",
    "<br>As visitors are served either the control or variation, their engagement with each experience is measured and collected in an analytics dashboard and analyzed through a statistical engine. You can then determine whether changing the experience had a positive, negative, or no effect on visitor behavior.\n",
    "\n",
    "### Why to use A/B Test\n",
    "A/B testing allows individuals, teams, and companies to make careful changes to their user experiences while collecting data on the results. This allows them to construct hypotheses, and to learn better why certain elements of their experiences impact user behavior. In another way, they can be proven wrong—their opinion about the best experience for a given goal can be proven wrong through an A/B test.\n",
    "\n",
    "<br> More than just answering a one-off question or settling a disagreement, AB testing can be used consistently to continually improve a given experience, improving a single goal like conversion rate over time.\n"
   ]
  },
  {
   "cell_type": "markdown",
   "metadata": {},
   "source": [
    "### Distribution of Data\n",
    "<br>- Univariate Analysis of Variables to understand the overall distribution of data.\n",
    "<br>- Also to understand what kind of recipients are included in the campaign."
   ]
  },
  {
   "cell_type": "code",
   "execution_count": 1,
   "metadata": {},
   "outputs": [],
   "source": [
    "# importing necessary libraries.\n",
    "import seaborn as sns\n",
    "import numpy as np\n",
    "import matplotlib.pyplot as plt\n",
    "import pandas as pd\n",
    "import seaborn as sns\n",
    "import random\n",
    "import math"
   ]
  },
  {
   "cell_type": "code",
   "execution_count": 2,
   "metadata": {},
   "outputs": [
    {
     "data": {
      "text/html": [
       "<div>\n",
       "<style scoped>\n",
       "    .dataframe tbody tr th:only-of-type {\n",
       "        vertical-align: middle;\n",
       "    }\n",
       "\n",
       "    .dataframe tbody tr th {\n",
       "        vertical-align: top;\n",
       "    }\n",
       "\n",
       "    .dataframe thead th {\n",
       "        text-align: right;\n",
       "    }\n",
       "</style>\n",
       "<table border=\"1\" class=\"dataframe\">\n",
       "  <thead>\n",
       "    <tr style=\"text-align: right;\">\n",
       "      <th></th>\n",
       "      <th>age</th>\n",
       "      <th>job</th>\n",
       "      <th>marital</th>\n",
       "      <th>education</th>\n",
       "      <th>gender</th>\n",
       "      <th>suggested</th>\n",
       "      <th>test</th>\n",
       "      <th>day_of_week</th>\n",
       "      <th>frequency</th>\n",
       "      <th>page_views</th>\n",
       "      <th>prev_y</th>\n",
       "      <th>y</th>\n",
       "    </tr>\n",
       "  </thead>\n",
       "  <tbody>\n",
       "    <tr>\n",
       "      <th>0</th>\n",
       "      <td>43</td>\n",
       "      <td>management</td>\n",
       "      <td>married</td>\n",
       "      <td>high.school</td>\n",
       "      <td>0.0</td>\n",
       "      <td>0.0</td>\n",
       "      <td>1</td>\n",
       "      <td>wed</td>\n",
       "      <td>3</td>\n",
       "      <td>0</td>\n",
       "      <td>2</td>\n",
       "      <td>0</td>\n",
       "    </tr>\n",
       "    <tr>\n",
       "      <th>1</th>\n",
       "      <td>34</td>\n",
       "      <td>housemaid</td>\n",
       "      <td>married</td>\n",
       "      <td>high.school</td>\n",
       "      <td>1.0</td>\n",
       "      <td>0.0</td>\n",
       "      <td>1</td>\n",
       "      <td>mon</td>\n",
       "      <td>2</td>\n",
       "      <td>0</td>\n",
       "      <td>2</td>\n",
       "      <td>0</td>\n",
       "    </tr>\n",
       "    <tr>\n",
       "      <th>2</th>\n",
       "      <td>27</td>\n",
       "      <td>services</td>\n",
       "      <td>single</td>\n",
       "      <td>school dropout</td>\n",
       "      <td>1.0</td>\n",
       "      <td>0.0</td>\n",
       "      <td>1</td>\n",
       "      <td>tue</td>\n",
       "      <td>1</td>\n",
       "      <td>0</td>\n",
       "      <td>0</td>\n",
       "      <td>0</td>\n",
       "    </tr>\n",
       "    <tr>\n",
       "      <th>3</th>\n",
       "      <td>52</td>\n",
       "      <td>services</td>\n",
       "      <td>married</td>\n",
       "      <td>high.school</td>\n",
       "      <td>0.0</td>\n",
       "      <td>0.0</td>\n",
       "      <td>1</td>\n",
       "      <td>tue</td>\n",
       "      <td>0</td>\n",
       "      <td>0</td>\n",
       "      <td>2</td>\n",
       "      <td>0</td>\n",
       "    </tr>\n",
       "    <tr>\n",
       "      <th>4</th>\n",
       "      <td>31</td>\n",
       "      <td>blue-collar</td>\n",
       "      <td>married</td>\n",
       "      <td>school dropout</td>\n",
       "      <td>1.0</td>\n",
       "      <td>0.0</td>\n",
       "      <td>1</td>\n",
       "      <td>thu</td>\n",
       "      <td>1</td>\n",
       "      <td>0</td>\n",
       "      <td>2</td>\n",
       "      <td>0</td>\n",
       "    </tr>\n",
       "  </tbody>\n",
       "</table>\n",
       "</div>"
      ],
      "text/plain": [
       "   age          job  marital       education  gender  suggested  test  \\\n",
       "0   43   management  married     high.school     0.0        0.0     1   \n",
       "1   34    housemaid  married     high.school     1.0        0.0     1   \n",
       "2   27     services   single  school dropout     1.0        0.0     1   \n",
       "3   52     services  married     high.school     0.0        0.0     1   \n",
       "4   31  blue-collar  married  school dropout     1.0        0.0     1   \n",
       "\n",
       "  day_of_week  frequency  page_views  prev_y  y  \n",
       "0         wed          3           0       2  0  \n",
       "1         mon          2           0       2  0  \n",
       "2         tue          1           0       0  0  \n",
       "3         tue          0           0       2  0  \n",
       "4         thu          1           0       2  0  "
      ]
     },
     "execution_count": 2,
     "metadata": {},
     "output_type": "execute_result"
    }
   ],
   "source": [
    "# Set the working directory\n",
    "import os\n",
    "os.chdir(\"C:\\\\Users\\\\pooja\\\\Desktop\\\\ML Final\")\n",
    "df=pd.read_csv('bank_direct_marketing.csv')\n",
    "df.head() #display the top 5 rows of the dataset"
   ]
  },
  {
   "cell_type": "code",
   "execution_count": 3,
   "metadata": {},
   "outputs": [
    {
     "data": {
      "text/plain": [
       "(100000, 12)"
      ]
     },
     "execution_count": 3,
     "metadata": {},
     "output_type": "execute_result"
    }
   ],
   "source": [
    "df.shape #(number of rows, number of columns)"
   ]
  },
  {
   "cell_type": "markdown",
   "metadata": {},
   "source": [
    "### Age :"
   ]
  },
  {
   "cell_type": "code",
   "execution_count": 4,
   "metadata": {},
   "outputs": [
    {
     "data": {
      "text/plain": [
       "count    100000.000000\n",
       "mean         40.008280\n",
       "std          10.443041\n",
       "min          16.000000\n",
       "25%          32.000000\n",
       "50%          38.000000\n",
       "75%          47.000000\n",
       "max          99.000000\n",
       "Name: age, dtype: float64"
      ]
     },
     "execution_count": 4,
     "metadata": {},
     "output_type": "execute_result"
    }
   ],
   "source": [
    "df.age.describe()"
   ]
  },
  {
   "cell_type": "code",
   "execution_count": 5,
   "metadata": {
    "scrolled": true
   },
   "outputs": [
    {
     "data": {
      "image/png": "[encoded data removed]",
      "text/plain": [
       "<Figure size 720x360 with 1 Axes>"
      ]
     },
     "metadata": {
      "needs_background": "light"
     },
     "output_type": "display_data"
    }
   ],
   "source": [
    "df.hist(column='age',\n",
    "          grid=True,\n",
    "          figsize=(10,5),\n",
    "          color='pink',\n",
    "          edgecolor='brown', #edge to separate the bars of histogram\n",
    "          bins=17) \n",
    "\n",
    "plt.xlabel('Age Range',fontsize=12) #y-xis label\n",
    "plt.ylabel('Number of Individuals', fontsize=12) #y-axis label\n",
    "plt.title('Histogram of Age', fontsize=16) #title of the graph\n",
    "\n",
    "plt.show()"
   ]
  },
  {
   "cell_type": "markdown",
   "metadata": {},
   "source": [
    "#### Observations :\n",
    "Almost **83%** of the recipients belong to the age group of *20-50 years*."
   ]
  },
  {
   "cell_type": "markdown",
   "metadata": {},
   "source": [
    "### Marital Status :"
   ]
  },
  {
   "cell_type": "code",
   "execution_count": 6,
   "metadata": {},
   "outputs": [
    {
     "data": {
      "text/plain": [
       "count      100000\n",
       "unique          4\n",
       "top       married\n",
       "freq        60533\n",
       "Name: marital, dtype: object"
      ]
     },
     "execution_count": 6,
     "metadata": {},
     "output_type": "execute_result"
    }
   ],
   "source": [
    "df.marital.describe()"
   ]
  },
  {
   "cell_type": "code",
   "execution_count": 60,
   "metadata": {},
   "outputs": [
    {
     "data": {
      "image/png": "[encoded data removed]",
      "text/plain": [
       "<Figure size 432x288 with 1 Axes>"
      ]
     },
     "metadata": {
      "needs_background": "light"
     },
     "output_type": "display_data"
    }
   ],
   "source": [
    "sns.countplot(x = 'marital', data = df)\n",
    "ax.set_xlabel('Marital Status', fontsize=15)\n",
    "ax.set_ylabel('Count', fontsize=15)\n",
    "ax.set_title('Marital Status Count Distribution', fontsize=15)\n",
    "ax.tick_params(labelsize=15)"
   ]
  },
  {
   "cell_type": "markdown",
   "metadata": {},
   "source": [
    "#### Observations :\n",
    "Also practically depending upon the population of the age group, campaign population mostly covers the *'Single'* and *'Married'* class of the people."
   ]
  },
  {
   "cell_type": "markdown",
   "metadata": {},
   "source": [
    "### Gender :"
   ]
  },
  {
   "cell_type": "code",
   "execution_count": 22,
   "metadata": {},
   "outputs": [
    {
     "data": {
      "text/plain": [
       "count    97595.000000\n",
       "mean         0.537189\n",
       "std          0.498618\n",
       "min          0.000000\n",
       "25%          0.000000\n",
       "50%          1.000000\n",
       "75%          1.000000\n",
       "max          1.000000\n",
       "Name: gender, dtype: float64"
      ]
     },
     "execution_count": 22,
     "metadata": {},
     "output_type": "execute_result"
    }
   ],
   "source": [
    "df.gender.describe()"
   ]
  },
  {
   "cell_type": "code",
   "execution_count": 83,
   "metadata": {},
   "outputs": [
    {
     "data": {
      "image/png": "[encoded data removed]",
      "text/plain": [
       "<Figure size 432x288 with 1 Axes>"
      ]
     },
     "metadata": {
      "needs_background": "light"
     },
     "output_type": "display_data"
    }
   ],
   "source": [
    "sns.countplot(x = 'gender', data = df)\n",
    "ax.set_xlabel('Gender', fontsize=15)\n",
    "ax.set_ylabel('Count', fontsize=15)\n",
    "ax.set_title('Male Female Distribution', fontsize=15)\n",
    "ax.tick_params(labelsize=15)"
   ]
  },
  {
   "cell_type": "markdown",
   "metadata": {},
   "source": [
    "#### Observations :\n",
    "Recipients of both the genders are almost equally included in the campaign."
   ]
  },
  {
   "cell_type": "markdown",
   "metadata": {},
   "source": [
    "### Day of Week :"
   ]
  },
  {
   "cell_type": "code",
   "execution_count": 25,
   "metadata": {},
   "outputs": [
    {
     "data": {
      "text/plain": [
       "count     100000\n",
       "unique         5\n",
       "top          thu\n",
       "freq       20919\n",
       "Name: day_of_week, dtype: object"
      ]
     },
     "execution_count": 25,
     "metadata": {},
     "output_type": "execute_result"
    }
   ],
   "source": [
    "df.day_of_week.describe()"
   ]
  },
  {
   "cell_type": "code",
   "execution_count": 58,
   "metadata": {},
   "outputs": [
    {
     "data": {
      "image/png": "[encoded data removed]",
      "text/plain": [
       "<Figure size 432x288 with 1 Axes>"
      ]
     },
     "metadata": {
      "needs_background": "light"
     },
     "output_type": "display_data"
    }
   ],
   "source": [
    "sns.countplot(x = 'day_of_week', data = df)\n",
    "ax.set_xlabel('Day_of_Week', fontsize=15)\n",
    "ax.set_ylabel('Count', fontsize=15)\n",
    "ax.set_title('Day_of_Week Count Distribution', fontsize=15)\n",
    "ax.tick_params(labelsize=15)"
   ]
  },
  {
   "cell_type": "markdown",
   "metadata": {},
   "source": [
    "#### Observations :\n",
    "<br>- Being the US based bank only weekdays (i.e.Monday to Friday) are included in the campaign.\n",
    "<br>- All the days have almost equal response being recorded from the campaign (i.e. 20% each).\n",
    "<br><br>**Note : All the above variables are not giving any significant results for understanding users response to the campaign.**"
   ]
  },
  {
   "cell_type": "markdown",
   "metadata": {},
   "source": [
    "### Education Sector :\n",
    "<br>- To remove some unnecessary and duplicate categories of the ***'education'*** variable we created a new categorical variable named ***'education Sector'*** consisting of 4 categories."
   ]
  },
  {
   "cell_type": "code",
   "execution_count": 90,
   "metadata": {},
   "outputs": [],
   "source": [
    "#Category crration for 'Education' variable\n",
    "df[\"education_sector\"]= np.where(df.education == \"high.school\"  , \"School\", \n",
    "np.where(df.education == \"school dropout\"  , \"School\", \n",
    "(np.where(df.education ==\"university.degree\" , \"Graduate\" ,\n",
    "(np.where(df.education ==\"professional.course\" , \"Graduate\",\n",
    "(np.where(df.education ==\"illiterate\" , \"Illiterate\" ,\"Unknown\"))))))))"
   ]
  },
  {
   "cell_type": "code",
   "execution_count": 91,
   "metadata": {},
   "outputs": [
    {
     "data": {
      "text/html": [
       "<div>\n",
       "<style scoped>\n",
       "    .dataframe tbody tr th:only-of-type {\n",
       "        vertical-align: middle;\n",
       "    }\n",
       "\n",
       "    .dataframe tbody tr th {\n",
       "        vertical-align: top;\n",
       "    }\n",
       "\n",
       "    .dataframe thead th {\n",
       "        text-align: right;\n",
       "    }\n",
       "</style>\n",
       "<table border=\"1\" class=\"dataframe\">\n",
       "  <thead>\n",
       "    <tr style=\"text-align: right;\">\n",
       "      <th></th>\n",
       "      <th>age</th>\n",
       "      <th>job</th>\n",
       "      <th>marital</th>\n",
       "      <th>education</th>\n",
       "      <th>gender</th>\n",
       "      <th>suggested</th>\n",
       "      <th>test</th>\n",
       "      <th>day_of_week</th>\n",
       "      <th>frequency</th>\n",
       "      <th>page_views</th>\n",
       "      <th>prev_y</th>\n",
       "      <th>y</th>\n",
       "      <th>education_sector</th>\n",
       "    </tr>\n",
       "  </thead>\n",
       "  <tbody>\n",
       "    <tr>\n",
       "      <th>0</th>\n",
       "      <td>43</td>\n",
       "      <td>management</td>\n",
       "      <td>married</td>\n",
       "      <td>high.school</td>\n",
       "      <td>0.0</td>\n",
       "      <td>0.0</td>\n",
       "      <td>1</td>\n",
       "      <td>wed</td>\n",
       "      <td>3</td>\n",
       "      <td>0</td>\n",
       "      <td>2</td>\n",
       "      <td>0</td>\n",
       "      <td>School</td>\n",
       "    </tr>\n",
       "    <tr>\n",
       "      <th>1</th>\n",
       "      <td>34</td>\n",
       "      <td>housemaid</td>\n",
       "      <td>married</td>\n",
       "      <td>high.school</td>\n",
       "      <td>1.0</td>\n",
       "      <td>0.0</td>\n",
       "      <td>1</td>\n",
       "      <td>mon</td>\n",
       "      <td>2</td>\n",
       "      <td>0</td>\n",
       "      <td>2</td>\n",
       "      <td>0</td>\n",
       "      <td>School</td>\n",
       "    </tr>\n",
       "    <tr>\n",
       "      <th>2</th>\n",
       "      <td>27</td>\n",
       "      <td>services</td>\n",
       "      <td>single</td>\n",
       "      <td>school dropout</td>\n",
       "      <td>1.0</td>\n",
       "      <td>0.0</td>\n",
       "      <td>1</td>\n",
       "      <td>tue</td>\n",
       "      <td>1</td>\n",
       "      <td>0</td>\n",
       "      <td>0</td>\n",
       "      <td>0</td>\n",
       "      <td>School</td>\n",
       "    </tr>\n",
       "    <tr>\n",
       "      <th>3</th>\n",
       "      <td>52</td>\n",
       "      <td>services</td>\n",
       "      <td>married</td>\n",
       "      <td>high.school</td>\n",
       "      <td>0.0</td>\n",
       "      <td>0.0</td>\n",
       "      <td>1</td>\n",
       "      <td>tue</td>\n",
       "      <td>0</td>\n",
       "      <td>0</td>\n",
       "      <td>2</td>\n",
       "      <td>0</td>\n",
       "      <td>School</td>\n",
       "    </tr>\n",
       "    <tr>\n",
       "      <th>4</th>\n",
       "      <td>31</td>\n",
       "      <td>blue-collar</td>\n",
       "      <td>married</td>\n",
       "      <td>school dropout</td>\n",
       "      <td>1.0</td>\n",
       "      <td>0.0</td>\n",
       "      <td>1</td>\n",
       "      <td>thu</td>\n",
       "      <td>1</td>\n",
       "      <td>0</td>\n",
       "      <td>2</td>\n",
       "      <td>0</td>\n",
       "      <td>School</td>\n",
       "    </tr>\n",
       "  </tbody>\n",
       "</table>\n",
       "</div>"
      ],
      "text/plain": [
       "   age          job  marital       education  gender  suggested  test  \\\n",
       "0   43   management  married     high.school     0.0        0.0     1   \n",
       "1   34    housemaid  married     high.school     1.0        0.0     1   \n",
       "2   27     services   single  school dropout     1.0        0.0     1   \n",
       "3   52     services  married     high.school     0.0        0.0     1   \n",
       "4   31  blue-collar  married  school dropout     1.0        0.0     1   \n",
       "\n",
       "  day_of_week  frequency  page_views  prev_y  y education_sector  \n",
       "0         wed          3           0       2  0           School  \n",
       "1         mon          2           0       2  0           School  \n",
       "2         tue          1           0       0  0           School  \n",
       "3         tue          0           0       2  0           School  \n",
       "4         thu          1           0       2  0           School  "
      ]
     },
     "execution_count": 91,
     "metadata": {},
     "output_type": "execute_result"
    }
   ],
   "source": [
    "df.head() #to view data after addition of extra column"
   ]
  },
  {
   "cell_type": "code",
   "execution_count": 92,
   "metadata": {},
   "outputs": [
    {
     "data": {
      "image/png": "[encoded data removed]",
      "text/plain": [
       "<Figure size 432x288 with 1 Axes>"
      ]
     },
     "metadata": {
      "needs_background": "light"
     },
     "output_type": "display_data"
    }
   ],
   "source": [
    "sns.countplot(x = 'education_sector', data = df)\n",
    "ax.set_xlabel('Education_Sector', fontsize=15)\n",
    "ax.set_ylabel('Count', fontsize=15)\n",
    "ax.set_title('Education Sector Distribution', fontsize=15)\n",
    "ax.tick_params(labelsize=15)"
   ]
  },
  {
   "cell_type": "markdown",
   "metadata": {},
   "source": [
    "#### Observation :\n",
    "<br>- The recipients having *'School'* and *'Graduate'* level of education are majorly included in the campaign, which includes upto **91%** of the campaign population."
   ]
  },
  {
   "cell_type": "markdown",
   "metadata": {},
   "source": [
    "### Job Sector :\n",
    "<br>- To remove some unnecessary and duplicate categories of the ***'job'*** variable we created a new categorical variable named ***'job Sector'*** consisting of 5 categories. The categories are formed based on the distribution of data in the original ***'job'*** variable.\n",
    "<br>- This simplifies handling and working on the categories of variables."
   ]
  },
  {
   "cell_type": "code",
   "execution_count": 93,
   "metadata": {},
   "outputs": [],
   "source": [
    "df[\"job_sector\"]= np.where(df.job == \"management\"  , \"Self Employed\", \n",
    "np.where(df.job == \"entrepreneur\"  , \"Self Employed\", \n",
    "(np.where(df.job ==\"self-employed\" , \"Self Employed\" ,\n",
    "(np.where(df.job ==\"housemaid\" , \"Low-income\",\n",
    "(np.where(df.job ==\"blue-collar\" , \"Low-income\" ,\n",
    "(np.where(df.job ==\"services\" , \"Mid-income\" ,\n",
    "(np.where(df.job ==\"admin.\", \"Mid-income\" ,\n",
    "(np.where(df.job ==\"technician\" , \"Mid-income\" ,\n",
    "(np.where(df.job ==\"unemployed\" , \"No income\" ,\n",
    "(np.where(df.job ==\"retired\" , \"No income\" ,\n",
    "(np.where(df.job ==\"student\" , \"No income\" , \"Unknown\"))))))))))))))))))))"
   ]
  },
  {
   "cell_type": "code",
   "execution_count": 94,
   "metadata": {},
   "outputs": [
    {
     "data": {
      "text/plain": [
       "count         100000\n",
       "unique             5\n",
       "top       Mid-income\n",
       "freq           51380\n",
       "Name: job_sector, dtype: object"
      ]
     },
     "execution_count": 94,
     "metadata": {},
     "output_type": "execute_result"
    }
   ],
   "source": [
    "df.job_sector.describe()"
   ]
  },
  {
   "cell_type": "code",
   "execution_count": 95,
   "metadata": {},
   "outputs": [
    {
     "data": {
      "text/html": [
       "<div>\n",
       "<style scoped>\n",
       "    .dataframe tbody tr th:only-of-type {\n",
       "        vertical-align: middle;\n",
       "    }\n",
       "\n",
       "    .dataframe tbody tr th {\n",
       "        vertical-align: top;\n",
       "    }\n",
       "\n",
       "    .dataframe thead th {\n",
       "        text-align: right;\n",
       "    }\n",
       "</style>\n",
       "<table border=\"1\" class=\"dataframe\">\n",
       "  <thead>\n",
       "    <tr style=\"text-align: right;\">\n",
       "      <th></th>\n",
       "      <th>age</th>\n",
       "      <th>job</th>\n",
       "      <th>marital</th>\n",
       "      <th>education</th>\n",
       "      <th>gender</th>\n",
       "      <th>suggested</th>\n",
       "      <th>test</th>\n",
       "      <th>day_of_week</th>\n",
       "      <th>frequency</th>\n",
       "      <th>page_views</th>\n",
       "      <th>prev_y</th>\n",
       "      <th>y</th>\n",
       "      <th>education_sector</th>\n",
       "      <th>job_sector</th>\n",
       "    </tr>\n",
       "  </thead>\n",
       "  <tbody>\n",
       "    <tr>\n",
       "      <th>0</th>\n",
       "      <td>43</td>\n",
       "      <td>management</td>\n",
       "      <td>married</td>\n",
       "      <td>high.school</td>\n",
       "      <td>0.0</td>\n",
       "      <td>0.0</td>\n",
       "      <td>1</td>\n",
       "      <td>wed</td>\n",
       "      <td>3</td>\n",
       "      <td>0</td>\n",
       "      <td>2</td>\n",
       "      <td>0</td>\n",
       "      <td>School</td>\n",
       "      <td>Self Employed</td>\n",
       "    </tr>\n",
       "    <tr>\n",
       "      <th>1</th>\n",
       "      <td>34</td>\n",
       "      <td>housemaid</td>\n",
       "      <td>married</td>\n",
       "      <td>high.school</td>\n",
       "      <td>1.0</td>\n",
       "      <td>0.0</td>\n",
       "      <td>1</td>\n",
       "      <td>mon</td>\n",
       "      <td>2</td>\n",
       "      <td>0</td>\n",
       "      <td>2</td>\n",
       "      <td>0</td>\n",
       "      <td>School</td>\n",
       "      <td>Low-income</td>\n",
       "    </tr>\n",
       "    <tr>\n",
       "      <th>2</th>\n",
       "      <td>27</td>\n",
       "      <td>services</td>\n",
       "      <td>single</td>\n",
       "      <td>school dropout</td>\n",
       "      <td>1.0</td>\n",
       "      <td>0.0</td>\n",
       "      <td>1</td>\n",
       "      <td>tue</td>\n",
       "      <td>1</td>\n",
       "      <td>0</td>\n",
       "      <td>0</td>\n",
       "      <td>0</td>\n",
       "      <td>School</td>\n",
       "      <td>Mid-income</td>\n",
       "    </tr>\n",
       "    <tr>\n",
       "      <th>3</th>\n",
       "      <td>52</td>\n",
       "      <td>services</td>\n",
       "      <td>married</td>\n",
       "      <td>high.school</td>\n",
       "      <td>0.0</td>\n",
       "      <td>0.0</td>\n",
       "      <td>1</td>\n",
       "      <td>tue</td>\n",
       "      <td>0</td>\n",
       "      <td>0</td>\n",
       "      <td>2</td>\n",
       "      <td>0</td>\n",
       "      <td>School</td>\n",
       "      <td>Mid-income</td>\n",
       "    </tr>\n",
       "    <tr>\n",
       "      <th>4</th>\n",
       "      <td>31</td>\n",
       "      <td>blue-collar</td>\n",
       "      <td>married</td>\n",
       "      <td>school dropout</td>\n",
       "      <td>1.0</td>\n",
       "      <td>0.0</td>\n",
       "      <td>1</td>\n",
       "      <td>thu</td>\n",
       "      <td>1</td>\n",
       "      <td>0</td>\n",
       "      <td>2</td>\n",
       "      <td>0</td>\n",
       "      <td>School</td>\n",
       "      <td>Low-income</td>\n",
       "    </tr>\n",
       "  </tbody>\n",
       "</table>\n",
       "</div>"
      ],
      "text/plain": [
       "   age          job  marital       education  gender  suggested  test  \\\n",
       "0   43   management  married     high.school     0.0        0.0     1   \n",
       "1   34    housemaid  married     high.school     1.0        0.0     1   \n",
       "2   27     services   single  school dropout     1.0        0.0     1   \n",
       "3   52     services  married     high.school     0.0        0.0     1   \n",
       "4   31  blue-collar  married  school dropout     1.0        0.0     1   \n",
       "\n",
       "  day_of_week  frequency  page_views  prev_y  y education_sector  \\\n",
       "0         wed          3           0       2  0           School   \n",
       "1         mon          2           0       2  0           School   \n",
       "2         tue          1           0       0  0           School   \n",
       "3         tue          0           0       2  0           School   \n",
       "4         thu          1           0       2  0           School   \n",
       "\n",
       "      job_sector  \n",
       "0  Self Employed  \n",
       "1     Low-income  \n",
       "2     Mid-income  \n",
       "3     Mid-income  \n",
       "4     Low-income  "
      ]
     },
     "execution_count": 95,
     "metadata": {},
     "output_type": "execute_result"
    }
   ],
   "source": [
    "df.head() #to view data after addition of extra column"
   ]
  },
  {
   "cell_type": "code",
   "execution_count": 96,
   "metadata": {},
   "outputs": [
    {
     "data": {
      "image/png": "[encoded data removed]",
      "text/plain": [
       "<Figure size 432x288 with 1 Axes>"
      ]
     },
     "metadata": {
      "needs_background": "light"
     },
     "output_type": "display_data"
    }
   ],
   "source": [
    "sns.countplot(x = 'job_sector', data = df)\n",
    "ax.set_xlabel('Job_Sector', fontsize=15)\n",
    "ax.set_ylabel('Count', fontsize=15)\n",
    "ax.set_title('Job Sector Distribution', fontsize=15)\n",
    "ax.tick_params(labelsize=15)"
   ]
  },
  {
   "cell_type": "markdown",
   "metadata": {},
   "source": [
    "#### Observations :\n",
    "<br>- **76%** of the campaign population includes *'mid'* and *'low'* income recipients."
   ]
  },
  {
   "cell_type": "markdown",
   "metadata": {},
   "source": [
    "### Frequency :"
   ]
  },
  {
   "cell_type": "code",
   "execution_count": 38,
   "metadata": {},
   "outputs": [
    {
     "data": {
      "text/plain": [
       "count    100000.000000\n",
       "mean          2.140050\n",
       "std           2.803807\n",
       "min           0.000000\n",
       "25%           1.000000\n",
       "50%           1.000000\n",
       "75%           3.000000\n",
       "max          56.000000\n",
       "Name: frequency, dtype: float64"
      ]
     },
     "execution_count": 38,
     "metadata": {},
     "output_type": "execute_result"
    }
   ],
   "source": [
    "df.frequency.describe()"
   ]
  },
  {
   "cell_type": "code",
   "execution_count": 40,
   "metadata": {},
   "outputs": [
    {
     "data": {
      "image/png": "[encoded data removed]",
      "text/plain": [
       "<Figure size 720x360 with 1 Axes>"
      ]
     },
     "metadata": {
      "needs_background": "light"
     },
     "output_type": "display_data"
    }
   ],
   "source": [
    "df.hist(column='frequency',\n",
    "          grid=True,\n",
    "          figsize=(10,5),\n",
    "          color='lightblue',\n",
    "          edgecolor='blue',\n",
    "          range=[1,30], #edge to separate the bars of histogram\n",
    "          bins=15) \n",
    "\n",
    "plt.xlabel('Ad Views',fontsize=12) #y-xis label\n",
    "plt.ylabel('Number of Individuals', fontsize=12) #y-axis label\n",
    "plt.title('Histogram of Frequency of ad Views', fontsize=16) #title of the graph\n",
    "\n",
    "plt.show()"
   ]
  },
  {
   "cell_type": "markdown",
   "metadata": {},
   "source": [
    "#### Observation : \n",
    "<br>- **84%** of the recipients have either not viewed the campaign ad or have viewed the ad maximum upto 3 times. "
   ]
  },
  {
   "cell_type": "markdown",
   "metadata": {},
   "source": [
    "### Page Views :"
   ]
  },
  {
   "cell_type": "code",
   "execution_count": 41,
   "metadata": {},
   "outputs": [
    {
     "data": {
      "text/plain": [
       "count    100000.000000\n",
       "mean          0.224190\n",
       "std           1.353199\n",
       "min           0.000000\n",
       "25%           0.000000\n",
       "50%           0.000000\n",
       "75%           0.000000\n",
       "max          27.000000\n",
       "Name: page_views, dtype: float64"
      ]
     },
     "execution_count": 41,
     "metadata": {},
     "output_type": "execute_result"
    }
   ],
   "source": [
    "df.page_views.describe()"
   ]
  },
  {
   "cell_type": "code",
   "execution_count": 42,
   "metadata": {},
   "outputs": [
    {
     "data": {
      "image/png": "[encoded data removed]",
      "text/plain": [
       "<Figure size 720x360 with 1 Axes>"
      ]
     },
     "metadata": {
      "needs_background": "light"
     },
     "output_type": "display_data"
    }
   ],
   "source": [
    "df.hist(column='page_views',\n",
    "          grid=True,\n",
    "          figsize=(10,5),\n",
    "          color='lavender',\n",
    "          edgecolor='purple', #edge to separate the bars of histogram\n",
    "          bins=17) \n",
    "\n",
    "plt.xlabel('Page of Website visited',fontsize=12) #y-xis label\n",
    "plt.ylabel('Number of Individuals', fontsize=12) #y-axis label\n",
    "plt.title('Histogram of Page Views', fontsize=16) #title of the graph\n",
    "\n",
    "plt.show()"
   ]
  },
  {
   "cell_type": "markdown",
   "metadata": {},
   "source": [
    "#### Observations : \n",
    "<br>- **96.5%** of the recipients of the population have either not at all visited the bank's official website or have browsed upto 2 pages of the website which is a huge section of the recipients."
   ]
  },
  {
   "cell_type": "markdown",
   "metadata": {},
   "source": [
    "### Previous Y"
   ]
  },
  {
   "cell_type": "code",
   "execution_count": 43,
   "metadata": {},
   "outputs": [
    {
     "data": {
      "text/plain": [
       "count    100000.000000\n",
       "mean          1.758620\n",
       "std           0.625428\n",
       "min           0.000000\n",
       "25%           2.000000\n",
       "50%           2.000000\n",
       "75%           2.000000\n",
       "max           2.000000\n",
       "Name: prev_y, dtype: float64"
      ]
     },
     "execution_count": 43,
     "metadata": {},
     "output_type": "execute_result"
    }
   ],
   "source": [
    "df.prev_y.describe()"
   ]
  },
  {
   "cell_type": "code",
   "execution_count": 53,
   "metadata": {},
   "outputs": [
    {
     "data": {
      "image/png": "[encoded data removed]",
      "text/plain": [
       "<Figure size 432x288 with 1 Axes>"
      ]
     },
     "metadata": {
      "needs_background": "light"
     },
     "output_type": "display_data"
    }
   ],
   "source": [
    "sns.countplot(x = 'prev_y', data = df)\n",
    "ax.set_xlabel('Previous Y', fontsize=15)\n",
    "ax.set_ylabel('Count', fontsize=15)\n",
    "ax.set_title('Previous_Y Count Distribution', fontsize=15)\n",
    "ax.tick_params(labelsize=15)"
   ]
  },
  {
   "cell_type": "markdown",
   "metadata": {},
   "source": [
    "#### Observations :\n",
    "<br>- This variable represents the response of the customers to previous campaign.\n",
    "<br>- Approximately only **14%** of the population is only the known population (i.e. who's previous campaign response was recorded).\n",
    "<br>- And a complete **86%** of the campaign population is a new and unknown population.                                      "
   ]
  },
  {
   "cell_type": "markdown",
   "metadata": {},
   "source": [
    "### Test "
   ]
  },
  {
   "cell_type": "code",
   "execution_count": 45,
   "metadata": {},
   "outputs": [
    {
     "data": {
      "text/plain": [
       "count    100000.000000\n",
       "mean          0.634540\n",
       "std           0.481561\n",
       "min           0.000000\n",
       "25%           0.000000\n",
       "50%           1.000000\n",
       "75%           1.000000\n",
       "max           1.000000\n",
       "Name: test, dtype: float64"
      ]
     },
     "execution_count": 45,
     "metadata": {},
     "output_type": "execute_result"
    }
   ],
   "source": [
    "df.test.describe()"
   ]
  },
  {
   "cell_type": "code",
   "execution_count": 54,
   "metadata": {},
   "outputs": [
    {
     "data": {
      "image/png": "[encoded data removed]",
      "text/plain": [
       "<Figure size 432x288 with 1 Axes>"
      ]
     },
     "metadata": {
      "needs_background": "light"
     },
     "output_type": "display_data"
    }
   ],
   "source": [
    "sns.countplot(x = 'test', data = df)\n",
    "ax.set_xlabel('Control and Test', fontsize=15)\n",
    "ax.set_ylabel('Count', fontsize=15)\n",
    "ax.set_title('Test Count Distribution', fontsize=15)\n",
    "ax.tick_params(labelsize=15)"
   ]
  },
  {
   "cell_type": "markdown",
   "metadata": {},
   "source": [
    "#### Observations :\n",
    "<br>- The split test is not equal.\n",
    "<br>- **63.5k** of the campaign population was sent the test(i.e. Video based link) and only **36.5k** of the campaign population was sent the control(i.e. text based link)"
   ]
  },
  {
   "cell_type": "markdown",
   "metadata": {},
   "source": [
    "### Y (Campaign Success):"
   ]
  },
  {
   "cell_type": "code",
   "execution_count": 48,
   "metadata": {},
   "outputs": [
    {
     "data": {
      "text/plain": [
       "count    100000.000000\n",
       "mean          0.112230\n",
       "std           0.315651\n",
       "min           0.000000\n",
       "25%           0.000000\n",
       "50%           0.000000\n",
       "75%           0.000000\n",
       "max           1.000000\n",
       "Name: y, dtype: float64"
      ]
     },
     "execution_count": 48,
     "metadata": {},
     "output_type": "execute_result"
    }
   ],
   "source": [
    "df.y.describe()"
   ]
  },
  {
   "cell_type": "code",
   "execution_count": 52,
   "metadata": {},
   "outputs": [
    {
     "data": {
      "image/png": "[encoded data removed]",
      "text/plain": [
       "<Figure size 432x288 with 1 Axes>"
      ]
     },
     "metadata": {
      "needs_background": "light"
     },
     "output_type": "display_data"
    }
   ],
   "source": [
    "sns.countplot(x = 'y', data = df)\n",
    "ax.set_xlabel('y', fontsize=15)\n",
    "ax.set_ylabel('Count', fontsize=15)\n",
    "ax.set_title('Y Count Distribution', fontsize=15)\n",
    "ax.tick_params(labelsize=15)"
   ]
  },
  {
   "cell_type": "markdown",
   "metadata": {},
   "source": [
    "#### Observations :\n",
    "<br>- The overall success rate of the campaign is **11.2%**"
   ]
  },
  {
   "cell_type": "markdown",
   "metadata": {},
   "source": [
    "### Identifying which factors Contributed\n",
    "#### Education Sector Success Rate Distribution\n",
    "<br>- To understand the factors which really affected the recipients response we considered the variables which actually showed us some significant distribution of data.\n",
    "<br>- So the variables which were showing some significant differences were *'Education_Sector'* and *'Job_Sector'*"
   ]
  },
  {
   "cell_type": "code",
   "execution_count": 63,
   "metadata": {},
   "outputs": [
    {
     "data": {
      "text/plain": [
       "<matplotlib.axes._subplots.AxesSubplot at 0x20c228a6390>"
      ]
     },
     "execution_count": 63,
     "metadata": {},
     "output_type": "execute_result"
    },
    {
     "data": {
      "image/png": "[encoded data removed]",
      "text/plain": [
       "<Figure size 432x288 with 1 Axes>"
      ]
     },
     "metadata": {
      "needs_background": "light"
     },
     "output_type": "display_data"
    }
   ],
   "source": [
    "sns.countplot(x='',hue=('y'),data=bank_df)"
   ]
  },
  {
   "cell_type": "markdown",
   "metadata": {},
   "source": [
    "#### Observations :\n",
    "<br>- All the sectors are showing **10-14%** of success rate."
   ]
  },
  {
   "cell_type": "code",
   "execution_count": 76,
   "metadata": {},
   "outputs": [
    {
     "data": {
      "text/plain": [
       "<matplotlib.axes._subplots.AxesSubplot at 0x20c22b94550>"
      ]
     },
     "execution_count": 76,
     "metadata": {},
     "output_type": "execute_result"
    },
    {
     "data": {
      "image/png": "[encoded data removed]",
      "text/plain": [
       "<Figure size 720x576 with 1 Axes>"
      ]
     },
     "metadata": {
      "needs_background": "light"
     },
     "output_type": "display_data"
    }
   ],
   "source": [
    "cross_education= pd.crosstab(df.education_sector,columns=[df.test,df.y] )\n",
    "cross_education.columns=[\"T0_Y0\",\"T0_Y1\",\"T1_Y0\",\"T1_Y1\"]\n",
    "cross_education.plot.bar(rot=80,figsize=(10,8))"
   ]
  },
  {
   "cell_type": "markdown",
   "metadata": {},
   "source": [
    "#### Observations :\n",
    "<br>- Based on the split test behaviour, test showed **15-20%** success rate, whereas control showed **4-6%** success rate."
   ]
  },
  {
   "cell_type": "markdown",
   "metadata": {},
   "source": [
    "#### JobSector Success Rate Distribution"
   ]
  },
  {
   "cell_type": "code",
   "execution_count": 64,
   "metadata": {},
   "outputs": [
    {
     "data": {
      "text/plain": [
       "<matplotlib.axes._subplots.AxesSubplot at 0x20c21f91c50>"
      ]
     },
     "execution_count": 64,
     "metadata": {},
     "output_type": "execute_result"
    },
    {
     "data": {
      "image/png": "[encoded data removed]",
      "text/plain": [
       "<Figure size 432x288 with 1 Axes>"
      ]
     },
     "metadata": {
      "needs_background": "light"
     },
     "output_type": "display_data"
    }
   ],
   "source": [
    "sns.countplot(x='job_sector',hue=('y'),data=df)"
   ]
  },
  {
   "cell_type": "markdown",
   "metadata": {},
   "source": [
    "#### Observations :\n",
    "<br>- Almost same success rate as that education sector, showing **10-14%** overall success rate.  "
   ]
  },
  {
   "cell_type": "code",
   "execution_count": 68,
   "metadata": {},
   "outputs": [
    {
     "data": {
      "text/plain": [
       "<matplotlib.axes._subplots.AxesSubplot at 0x20c229fde80>"
      ]
     },
     "execution_count": 68,
     "metadata": {},
     "output_type": "execute_result"
    },
    {
     "data": {
      "image/png": "[encoded data removed]",
      "text/plain": [
       "<Figure size 720x576 with 1 Axes>"
      ]
     },
     "metadata": {
      "needs_background": "light"
     },
     "output_type": "display_data"
    }
   ],
   "source": [
    "cross_job= pd.crosstab(df.job_sector,columns=[df.test,df.y] )\n",
    "cross_job.columns=[\"T0_Y0\",\"T0_Y1\",\"T1_Y0\",\"T1_Y1\"]\n",
    "cross_job.plot.bar(rot=80,figsize=(10,8))"
   ]
  },
  {
   "cell_type": "markdown",
   "metadata": {},
   "source": [
    "#### Observations :\n",
    "<br>- Success for test is **15-20%** and almost **5-8%** for control."
   ]
  },
  {
   "cell_type": "code",
   "execution_count": 73,
   "metadata": {},
   "outputs": [
    {
     "data": {
      "text/html": [
       "<div>\n",
       "<style scoped>\n",
       "    .dataframe tbody tr th:only-of-type {\n",
       "        vertical-align: middle;\n",
       "    }\n",
       "\n",
       "    .dataframe tbody tr th {\n",
       "        vertical-align: top;\n",
       "    }\n",
       "\n",
       "    .dataframe thead th {\n",
       "        text-align: right;\n",
       "    }\n",
       "</style>\n",
       "<table border=\"1\" class=\"dataframe\">\n",
       "  <thead>\n",
       "    <tr style=\"text-align: right;\">\n",
       "      <th></th>\n",
       "      <th></th>\n",
       "      <th></th>\n",
       "      <th>Failure</th>\n",
       "      <th>Success</th>\n",
       "      <th>Success%</th>\n",
       "    </tr>\n",
       "    <tr>\n",
       "      <th>job_sector</th>\n",
       "      <th>education_sector</th>\n",
       "      <th>test</th>\n",
       "      <th></th>\n",
       "      <th></th>\n",
       "      <th></th>\n",
       "    </tr>\n",
       "  </thead>\n",
       "  <tbody>\n",
       "    <tr>\n",
       "      <th rowspan=\"8\" valign=\"top\">Low-income</th>\n",
       "      <th rowspan=\"2\" valign=\"top\">Graduate</th>\n",
       "      <th>0</th>\n",
       "      <td>664</td>\n",
       "      <td>41</td>\n",
       "      <td>5.815603</td>\n",
       "    </tr>\n",
       "    <tr>\n",
       "      <th>1</th>\n",
       "      <td>956</td>\n",
       "      <td>142</td>\n",
       "      <td>12.932605</td>\n",
       "    </tr>\n",
       "    <tr>\n",
       "      <th rowspan=\"2\" valign=\"top\">Illiterate</th>\n",
       "      <th>0</th>\n",
       "      <td>5</td>\n",
       "      <td>0</td>\n",
       "      <td>0.000000</td>\n",
       "    </tr>\n",
       "    <tr>\n",
       "      <th>1</th>\n",
       "      <td>17</td>\n",
       "      <td>0</td>\n",
       "      <td>0.000000</td>\n",
       "    </tr>\n",
       "    <tr>\n",
       "      <th rowspan=\"2\" valign=\"top\">School</th>\n",
       "      <th>0</th>\n",
       "      <td>7756</td>\n",
       "      <td>356</td>\n",
       "      <td>4.388560</td>\n",
       "    </tr>\n",
       "    <tr>\n",
       "      <th>1</th>\n",
       "      <td>9319</td>\n",
       "      <td>908</td>\n",
       "      <td>8.878459</td>\n",
       "    </tr>\n",
       "    <tr>\n",
       "      <th rowspan=\"2\" valign=\"top\">Unknown</th>\n",
       "      <th>0</th>\n",
       "      <td>2192</td>\n",
       "      <td>106</td>\n",
       "      <td>4.612707</td>\n",
       "    </tr>\n",
       "    <tr>\n",
       "      <th>1</th>\n",
       "      <td>2335</td>\n",
       "      <td>236</td>\n",
       "      <td>9.179308</td>\n",
       "    </tr>\n",
       "    <tr>\n",
       "      <th rowspan=\"7\" valign=\"top\">Mid-income</th>\n",
       "      <th rowspan=\"2\" valign=\"top\">Graduate</th>\n",
       "      <th>0</th>\n",
       "      <td>7561</td>\n",
       "      <td>452</td>\n",
       "      <td>5.640834</td>\n",
       "    </tr>\n",
       "    <tr>\n",
       "      <th>1</th>\n",
       "      <td>17091</td>\n",
       "      <td>3132</td>\n",
       "      <td>15.487316</td>\n",
       "    </tr>\n",
       "    <tr>\n",
       "      <th>Illiterate</th>\n",
       "      <th>1</th>\n",
       "      <td>2</td>\n",
       "      <td>0</td>\n",
       "      <td>0.000000</td>\n",
       "    </tr>\n",
       "    <tr>\n",
       "      <th rowspan=\"2\" valign=\"top\">School</th>\n",
       "      <th>0</th>\n",
       "      <td>7662</td>\n",
       "      <td>376</td>\n",
       "      <td>4.677781</td>\n",
       "    </tr>\n",
       "    <tr>\n",
       "      <th>1</th>\n",
       "      <td>10905</td>\n",
       "      <td>1573</td>\n",
       "      <td>12.606187</td>\n",
       "    </tr>\n",
       "    <tr>\n",
       "      <th rowspan=\"2\" valign=\"top\">Unknown</th>\n",
       "      <th>0</th>\n",
       "      <td>1086</td>\n",
       "      <td>48</td>\n",
       "      <td>4.232804</td>\n",
       "    </tr>\n",
       "    <tr>\n",
       "      <th>1</th>\n",
       "      <td>1263</td>\n",
       "      <td>229</td>\n",
       "      <td>15.348525</td>\n",
       "    </tr>\n",
       "    <tr>\n",
       "      <th rowspan=\"8\" valign=\"top\">No income</th>\n",
       "      <th rowspan=\"2\" valign=\"top\">Graduate</th>\n",
       "      <th>0</th>\n",
       "      <td>812</td>\n",
       "      <td>74</td>\n",
       "      <td>8.352144</td>\n",
       "    </tr>\n",
       "    <tr>\n",
       "      <th>1</th>\n",
       "      <td>1429</td>\n",
       "      <td>494</td>\n",
       "      <td>25.689028</td>\n",
       "    </tr>\n",
       "    <tr>\n",
       "      <th rowspan=\"2\" valign=\"top\">Illiterate</th>\n",
       "      <th>0</th>\n",
       "      <td>0</td>\n",
       "      <td>3</td>\n",
       "      <td>100.000000</td>\n",
       "    </tr>\n",
       "    <tr>\n",
       "      <th>1</th>\n",
       "      <td>2</td>\n",
       "      <td>3</td>\n",
       "      <td>60.000000</td>\n",
       "    </tr>\n",
       "    <tr>\n",
       "      <th rowspan=\"2\" valign=\"top\">School</th>\n",
       "      <th>0</th>\n",
       "      <td>1419</td>\n",
       "      <td>134</td>\n",
       "      <td>8.628461</td>\n",
       "    </tr>\n",
       "    <tr>\n",
       "      <th>1</th>\n",
       "      <td>2357</td>\n",
       "      <td>1084</td>\n",
       "      <td>31.502470</td>\n",
       "    </tr>\n",
       "    <tr>\n",
       "      <th rowspan=\"2\" valign=\"top\">Unknown</th>\n",
       "      <th>0</th>\n",
       "      <td>176</td>\n",
       "      <td>31</td>\n",
       "      <td>14.975845</td>\n",
       "    </tr>\n",
       "    <tr>\n",
       "      <th>1</th>\n",
       "      <td>520</td>\n",
       "      <td>255</td>\n",
       "      <td>32.903226</td>\n",
       "    </tr>\n",
       "    <tr>\n",
       "      <th rowspan=\"7\" valign=\"top\">Self Employed</th>\n",
       "      <th rowspan=\"2\" valign=\"top\">Graduate</th>\n",
       "      <th>0</th>\n",
       "      <td>2973</td>\n",
       "      <td>182</td>\n",
       "      <td>5.768621</td>\n",
       "    </tr>\n",
       "    <tr>\n",
       "      <th>1</th>\n",
       "      <td>5203</td>\n",
       "      <td>914</td>\n",
       "      <td>14.941965</td>\n",
       "    </tr>\n",
       "    <tr>\n",
       "      <th>Illiterate</th>\n",
       "      <th>1</th>\n",
       "      <td>9</td>\n",
       "      <td>3</td>\n",
       "      <td>25.000000</td>\n",
       "    </tr>\n",
       "    <tr>\n",
       "      <th rowspan=\"2\" valign=\"top\">School</th>\n",
       "      <th>0</th>\n",
       "      <td>1535</td>\n",
       "      <td>54</td>\n",
       "      <td>3.398364</td>\n",
       "    </tr>\n",
       "    <tr>\n",
       "      <th>1</th>\n",
       "      <td>1996</td>\n",
       "      <td>183</td>\n",
       "      <td>8.398348</td>\n",
       "    </tr>\n",
       "    <tr>\n",
       "      <th rowspan=\"2\" valign=\"top\">Unknown</th>\n",
       "      <th>0</th>\n",
       "      <td>425</td>\n",
       "      <td>29</td>\n",
       "      <td>6.387665</td>\n",
       "    </tr>\n",
       "    <tr>\n",
       "      <th>1</th>\n",
       "      <td>394</td>\n",
       "      <td>97</td>\n",
       "      <td>19.755601</td>\n",
       "    </tr>\n",
       "    <tr>\n",
       "      <th rowspan=\"6\" valign=\"top\">Unknown</th>\n",
       "      <th rowspan=\"2\" valign=\"top\">Graduate</th>\n",
       "      <th>0</th>\n",
       "      <td>46</td>\n",
       "      <td>6</td>\n",
       "      <td>11.538462</td>\n",
       "    </tr>\n",
       "    <tr>\n",
       "      <th>1</th>\n",
       "      <td>67</td>\n",
       "      <td>22</td>\n",
       "      <td>24.719101</td>\n",
       "    </tr>\n",
       "    <tr>\n",
       "      <th rowspan=\"2\" valign=\"top\">School</th>\n",
       "      <th>0</th>\n",
       "      <td>156</td>\n",
       "      <td>3</td>\n",
       "      <td>1.886792</td>\n",
       "    </tr>\n",
       "    <tr>\n",
       "      <th>1</th>\n",
       "      <td>128</td>\n",
       "      <td>14</td>\n",
       "      <td>9.859155</td>\n",
       "    </tr>\n",
       "    <tr>\n",
       "      <th rowspan=\"2\" valign=\"top\">Unknown</th>\n",
       "      <th>0</th>\n",
       "      <td>170</td>\n",
       "      <td>13</td>\n",
       "      <td>7.103825</td>\n",
       "    </tr>\n",
       "    <tr>\n",
       "      <th>1</th>\n",
       "      <td>146</td>\n",
       "      <td>26</td>\n",
       "      <td>15.116279</td>\n",
       "    </tr>\n",
       "  </tbody>\n",
       "</table>\n",
       "</div>"
      ],
      "text/plain": [
       "                                     Failure  Success    Success%\n",
       "job_sector    education_sector test                              \n",
       "Low-income    Graduate         0         664       41    5.815603\n",
       "                               1         956      142   12.932605\n",
       "              Illiterate       0           5        0    0.000000\n",
       "                               1          17        0    0.000000\n",
       "              School           0        7756      356    4.388560\n",
       "                               1        9319      908    8.878459\n",
       "              Unknown          0        2192      106    4.612707\n",
       "                               1        2335      236    9.179308\n",
       "Mid-income    Graduate         0        7561      452    5.640834\n",
       "                               1       17091     3132   15.487316\n",
       "              Illiterate       1           2        0    0.000000\n",
       "              School           0        7662      376    4.677781\n",
       "                               1       10905     1573   12.606187\n",
       "              Unknown          0        1086       48    4.232804\n",
       "                               1        1263      229   15.348525\n",
       "No income     Graduate         0         812       74    8.352144\n",
       "                               1        1429      494   25.689028\n",
       "              Illiterate       0           0        3  100.000000\n",
       "                               1           2        3   60.000000\n",
       "              School           0        1419      134    8.628461\n",
       "                               1        2357     1084   31.502470\n",
       "              Unknown          0         176       31   14.975845\n",
       "                               1         520      255   32.903226\n",
       "Self Employed Graduate         0        2973      182    5.768621\n",
       "                               1        5203      914   14.941965\n",
       "              Illiterate       1           9        3   25.000000\n",
       "              School           0        1535       54    3.398364\n",
       "                               1        1996      183    8.398348\n",
       "              Unknown          0         425       29    6.387665\n",
       "                               1         394       97   19.755601\n",
       "Unknown       Graduate         0          46        6   11.538462\n",
       "                               1          67       22   24.719101\n",
       "              School           0         156        3    1.886792\n",
       "                               1         128       14    9.859155\n",
       "              Unknown          0         170       13    7.103825\n",
       "                               1         146       26   15.116279"
      ]
     },
     "execution_count": 73,
     "metadata": {},
     "output_type": "execute_result"
    }
   ],
   "source": [
    "dfcd= pd.crosstab([df.job_sector,df.education_sector,df.test], df.y)\n",
    "dfcd.columns= [\"Failure\",\"Success\"]\n",
    "dfcd[\"Success%\"]= (dfcd.Success/ ((dfcd.Failure) +  (dfcd.Success)))*100\n",
    "dfcd"
   ]
  },
  {
   "cell_type": "markdown",
   "metadata": {},
   "source": [
    "#### Observations :\n",
    "<br>- Nesting the Education_Sector within the job sector has also given normal success rate based on the number of recipients actually present in the respective sector. So higher the number of recipients success rate is normal, less the number of recipients success rate is high.\n",
    "<br>- Therefore for studing the actual factors which contributed to success of campaign no significant observations can be drawn from job_sector and education_sector."
   ]
  },
  {
   "cell_type": "markdown",
   "metadata": {},
   "source": [
    "#### Page Views success rate Distribution"
   ]
  },
  {
   "cell_type": "code",
   "execution_count": 78,
   "metadata": {},
   "outputs": [
    {
     "data": {
      "text/plain": [
       "<matplotlib.axes._subplots.AxesSubplot at 0x20c23a64208>"
      ]
     },
     "execution_count": 78,
     "metadata": {},
     "output_type": "execute_result"
    },
    {
     "data": {
      "image/png": "[encoded data removed]",
      "text/plain": [
       "<Figure size 720x576 with 1 Axes>"
      ]
     },
     "metadata": {
      "needs_background": "light"
     },
     "output_type": "display_data"
    }
   ],
   "source": [
    "cross_job= pd.crosstab(df.page_views[df.page_views<=5],columns=[df.test,df.y] )\n",
    "cross_job.columns=[\"T0_Y0\",\"T0_Y1\",\"T1_Y0\",\"T1_Y1\"]\n",
    "cross_job.plot.bar(rot=80,figsize=(10,8))"
   ]
  },
  {
   "cell_type": "markdown",
   "metadata": {},
   "source": [
    "#### Observations : \n",
    "<br>- So clearly Majority of campaign population **(i.e. 96%)** has not at all visited the bank's official website.\n",
    "<br>- The success rate here for test is **12%** and that for control is **4.78%**.\n",
    "<br>- Whereas the success rate of test for recipients who have visited at least one webpage of the bank's website is **63.28%**. But the difference between both the above counts is huge."
   ]
  },
  {
   "cell_type": "markdown",
   "metadata": {},
   "source": [
    "#### Ad views Frequency success rate"
   ]
  },
  {
   "cell_type": "code",
   "execution_count": 80,
   "metadata": {},
   "outputs": [
    {
     "data": {
      "text/plain": [
       "<matplotlib.axes._subplots.AxesSubplot at 0x20c266c72b0>"
      ]
     },
     "execution_count": 80,
     "metadata": {},
     "output_type": "execute_result"
    },
    {
     "data": {
      "image/png": "[encoded data removed]",
      "text/plain": [
       "<Figure size 720x576 with 1 Axes>"
      ]
     },
     "metadata": {
      "needs_background": "light"
     },
     "output_type": "display_data"
    }
   ],
   "source": [
    "cross_job= pd.crosstab(df.frequency[df.frequency<=10],columns=[df.test,df.y] )\n",
    "cross_job.columns=[\"T0_Y0\",\"T0_Y1\",\"T1_Y0\",\"T1_Y1\"]\n",
    "cross_job.plot.bar(rot=80,figsize=(10,8))"
   ]
  },
  {
   "cell_type": "markdown",
   "metadata": {},
   "source": [
    "#### Observations :\n",
    "<br>- **35%** of the campaign population has viewed the ad once, here the success rate of test is **16%** and that of control is **5.65%**\n",
    "<br>- For recipients who have viewEd the ad more than once the success rate is approximately **12-14%** and that for control is approx **4-5%**. But such recipients are very less compared to who have viewed the ad maximum once.\n"
   ]
  },
  {
   "cell_type": "markdown",
   "metadata": {},
   "source": [
    "### Steps of A/B Testing\n",
    "\n",
    "<img src=\"steps.png\"\n",
    "     alt=\"Steps of A/B Testing\"\n",
    "     style=\"float: left; margin-right: 10px;\" />\n",
    "     \n",
    "<img src=\"Hypo.png\"\n",
    "     alt=\"Algo of A/B Testing\"\n",
    "     style=\"float: left; margin-right: 10px;\" />"
   ]
  },
  {
   "cell_type": "code",
   "execution_count": 8,
   "metadata": {},
   "outputs": [
    {
     "data": {
      "text/html": [
       "<div>\n",
       "<style scoped>\n",
       "    .dataframe tbody tr th:only-of-type {\n",
       "        vertical-align: middle;\n",
       "    }\n",
       "\n",
       "    .dataframe tbody tr th {\n",
       "        vertical-align: top;\n",
       "    }\n",
       "\n",
       "    .dataframe thead th {\n",
       "        text-align: right;\n",
       "    }\n",
       "</style>\n",
       "<table border=\"1\" class=\"dataframe\">\n",
       "  <thead>\n",
       "    <tr style=\"text-align: right;\">\n",
       "      <th></th>\n",
       "      <th>T0_fail</th>\n",
       "      <th>T1_fail</th>\n",
       "      <th>T0_success</th>\n",
       "      <th>T1_success</th>\n",
       "    </tr>\n",
       "    <tr>\n",
       "      <th>gender</th>\n",
       "      <th></th>\n",
       "      <th></th>\n",
       "      <th></th>\n",
       "      <th></th>\n",
       "    </tr>\n",
       "  </thead>\n",
       "  <tbody>\n",
       "    <tr>\n",
       "      <th>0.0</th>\n",
       "      <td>17408</td>\n",
       "      <td>22846</td>\n",
       "      <td>980</td>\n",
       "      <td>3934</td>\n",
       "    </tr>\n",
       "    <tr>\n",
       "      <th>1.0</th>\n",
       "      <td>16221</td>\n",
       "      <td>30165</td>\n",
       "      <td>890</td>\n",
       "      <td>5151</td>\n",
       "    </tr>\n",
       "  </tbody>\n",
       "</table>\n",
       "</div>"
      ],
      "text/plain": [
       "        T0_fail  T1_fail  T0_success  T1_success\n",
       "gender                                          \n",
       "0.0       17408    22846         980        3934\n",
       "1.0       16221    30165         890        5151"
      ]
     },
     "execution_count": 8,
     "metadata": {},
     "output_type": "execute_result"
    }
   ],
   "source": [
    "cross_tab= pd.crosstab(df.gender,columns=[df.y,df.test] )\n",
    "cross_tab.columns=[\"T0_fail\",\"T1_fail\",\"T0_success\",\"T1_success\"]\n",
    "cross_tab"
   ]
  },
  {
   "cell_type": "code",
   "execution_count": 9,
   "metadata": {},
   "outputs": [
    {
     "data": {
      "text/plain": [
       "age            36546\n",
       "job            36546\n",
       "marital        36546\n",
       "education      36546\n",
       "gender         35499\n",
       "suggested      35499\n",
       "test           36546\n",
       "day_of_week    36546\n",
       "frequency      36546\n",
       "page_views     36546\n",
       "prev_y         36546\n",
       "y              36546\n",
       "dtype: int64"
      ]
     },
     "execution_count": 9,
     "metadata": {},
     "output_type": "execute_result"
    }
   ],
   "source": [
    "t_1= df[df[\"test\"]==1]\n",
    "t_0= df[df[\"test\"]==0]\n",
    "t_0.count()\n",
    "t_1.count()\n",
    "t_0.count()\n"
   ]
  },
  {
   "cell_type": "code",
   "execution_count": 10,
   "metadata": {},
   "outputs": [],
   "source": [
    "# undo these two comments if needed , looks like it is not needed\n",
    "#t1_y1= pd.crosstab([t_1.test==1], df.y==1)\n",
    "total_t1= pd.crosstab([t_1.test==1], df.y)\n",
    "total_t1.columns= [\"t1_failure\",\"t1_success\"]\n",
    "#t0_y0= pd.crosstab([t_0.test==0], df.y==1)\n",
    "total_t0= pd.crosstab([t_0.test==0], df.y)\n",
    "total_t0.columns= [\"t0_failure\",\"t0_success\"]"
   ]
  },
  {
   "cell_type": "code",
   "execution_count": 12,
   "metadata": {},
   "outputs": [
    {
     "data": {
      "text/html": [
       "<div>\n",
       "<style scoped>\n",
       "    .dataframe tbody tr th:only-of-type {\n",
       "        vertical-align: middle;\n",
       "    }\n",
       "\n",
       "    .dataframe tbody tr th {\n",
       "        vertical-align: top;\n",
       "    }\n",
       "\n",
       "    .dataframe thead th {\n",
       "        text-align: right;\n",
       "    }\n",
       "</style>\n",
       "<table border=\"1\" class=\"dataframe\">\n",
       "  <thead>\n",
       "    <tr style=\"text-align: right;\">\n",
       "      <th></th>\n",
       "      <th>t0_failure</th>\n",
       "      <th>t0_success</th>\n",
       "    </tr>\n",
       "    <tr>\n",
       "      <th>test</th>\n",
       "      <th></th>\n",
       "      <th></th>\n",
       "    </tr>\n",
       "  </thead>\n",
       "  <tbody>\n",
       "    <tr>\n",
       "      <th>True</th>\n",
       "      <td>34638</td>\n",
       "      <td>1908</td>\n",
       "    </tr>\n",
       "  </tbody>\n",
       "</table>\n",
       "</div>"
      ],
      "text/plain": [
       "      t0_failure  t0_success\n",
       "test                        \n",
       "True       34638        1908"
      ]
     },
     "execution_count": 12,
     "metadata": {},
     "output_type": "execute_result"
    }
   ],
   "source": [
    "total_t0"
   ]
  },
  {
   "cell_type": "code",
   "execution_count": 13,
   "metadata": {},
   "outputs": [
    {
     "data": {
      "text/html": [
       "<div>\n",
       "<style scoped>\n",
       "    .dataframe tbody tr th:only-of-type {\n",
       "        vertical-align: middle;\n",
       "    }\n",
       "\n",
       "    .dataframe tbody tr th {\n",
       "        vertical-align: top;\n",
       "    }\n",
       "\n",
       "    .dataframe thead th {\n",
       "        text-align: right;\n",
       "    }\n",
       "</style>\n",
       "<table border=\"1\" class=\"dataframe\">\n",
       "  <thead>\n",
       "    <tr style=\"text-align: right;\">\n",
       "      <th></th>\n",
       "      <th>t1_failure</th>\n",
       "      <th>t1_success</th>\n",
       "    </tr>\n",
       "    <tr>\n",
       "      <th>test</th>\n",
       "      <th></th>\n",
       "      <th></th>\n",
       "    </tr>\n",
       "  </thead>\n",
       "  <tbody>\n",
       "    <tr>\n",
       "      <th>True</th>\n",
       "      <td>54139</td>\n",
       "      <td>9315</td>\n",
       "    </tr>\n",
       "  </tbody>\n",
       "</table>\n",
       "</div>"
      ],
      "text/plain": [
       "      t1_failure  t1_success\n",
       "test                        \n",
       "True       54139        9315"
      ]
     },
     "execution_count": 13,
     "metadata": {},
     "output_type": "execute_result"
    }
   ],
   "source": [
    "total_t1"
   ]
  },
  {
   "cell_type": "code",
   "execution_count": 15,
   "metadata": {},
   "outputs": [
    {
     "data": {
      "text/plain": [
       "T0_fail       34638\n",
       "T1_fail       54139\n",
       "T0_success     1908\n",
       "T1_success     9315\n",
       "dtype: int64"
      ]
     },
     "execution_count": 15,
     "metadata": {},
     "output_type": "execute_result"
    }
   ],
   "source": [
    "page_views_tab= pd.crosstab(df.page_views,columns=[df.y,df.test] )\n",
    "page_views_tab.columns=[\"T0_fail\",\"T1_fail\",\"T0_success\",\"T1_success\"]\n",
    "page_views_tab.sum()"
   ]
  },
  {
   "cell_type": "code",
   "execution_count": 16,
   "metadata": {},
   "outputs": [
    {
     "data": {
      "text/plain": [
       "0.04783435802707397"
      ]
     },
     "execution_count": 16,
     "metadata": {},
     "output_type": "execute_result"
    }
   ],
   "source": [
    "page_views_tab_t0=1735/(34536+1735)\n",
    "page_views_tab_t0"
   ]
  },
  {
   "cell_type": "code",
   "execution_count": 18,
   "metadata": {},
   "outputs": [
    {
     "data": {
      "text/plain": [
       "0.11926727726894255"
      ]
     },
     "execution_count": 18,
     "metadata": {},
     "output_type": "execute_result"
    }
   ],
   "source": [
    "page_views_tab_t7162/(7162+52888)\n",
    "page_views_tab_t1"
   ]
  },
  {
   "cell_type": "code",
   "execution_count": 22,
   "metadata": {},
   "outputs": [
    {
     "data": {
      "text/html": [
       "<div>\n",
       "<style scoped>\n",
       "    .dataframe tbody tr th:only-of-type {\n",
       "        vertical-align: middle;\n",
       "    }\n",
       "\n",
       "    .dataframe tbody tr th {\n",
       "        vertical-align: top;\n",
       "    }\n",
       "\n",
       "    .dataframe thead th {\n",
       "        text-align: right;\n",
       "    }\n",
       "</style>\n",
       "<table border=\"1\" class=\"dataframe\">\n",
       "  <thead>\n",
       "    <tr style=\"text-align: right;\">\n",
       "      <th></th>\n",
       "      <th>T0_fail</th>\n",
       "      <th>T1_fail</th>\n",
       "      <th>T0_success</th>\n",
       "      <th>T1_success</th>\n",
       "    </tr>\n",
       "    <tr>\n",
       "      <th>prev_y</th>\n",
       "      <th></th>\n",
       "      <th></th>\n",
       "      <th></th>\n",
       "      <th></th>\n",
       "    </tr>\n",
       "  </thead>\n",
       "  <tbody>\n",
       "    <tr>\n",
       "      <th>0</th>\n",
       "      <td>632</td>\n",
       "      <td>8275</td>\n",
       "      <td>86</td>\n",
       "      <td>1409</td>\n",
       "    </tr>\n",
       "    <tr>\n",
       "      <th>1</th>\n",
       "      <td>90</td>\n",
       "      <td>1101</td>\n",
       "      <td>160</td>\n",
       "      <td>1983</td>\n",
       "    </tr>\n",
       "    <tr>\n",
       "      <th>2</th>\n",
       "      <td>33916</td>\n",
       "      <td>44763</td>\n",
       "      <td>1662</td>\n",
       "      <td>5923</td>\n",
       "    </tr>\n",
       "  </tbody>\n",
       "</table>\n",
       "</div>"
      ],
      "text/plain": [
       "        T0_fail  T1_fail  T0_success  T1_success\n",
       "prev_y                                          \n",
       "0           632     8275          86        1409\n",
       "1            90     1101         160        1983\n",
       "2         33916    44763        1662        5923"
      ]
     },
     "execution_count": 22,
     "metadata": {},
     "output_type": "execute_result"
    }
   ],
   "source": [
    "prey_tab= pd.crosstab(df.prev_y,columns=[df.y,df.test] )\n",
    "prey_tab.columns=[\"T0_fail\",\"T1_fail\",\"T0_success\",\"T1_success\"]\n",
    "prey_tab"
   ]
  },
  {
   "cell_type": "code",
   "execution_count": 26,
   "metadata": {},
   "outputs": [
    {
     "data": {
      "text/plain": [
       "0.14549772821148285"
      ]
     },
     "execution_count": 26,
     "metadata": {},
     "output_type": "execute_result"
    }
   ],
   "source": [
    "preyyt1= (prey_tab.T1_success/(prey_tab.T1_success+ prey_tab.T1_fail))\n",
    "preyyt1=preyyt1[0]\n",
    "preyyt1"
   ]
  },
  {
   "cell_type": "code",
   "execution_count": 25,
   "metadata": {},
   "outputs": [
    {
     "data": {
      "text/plain": [
       "0.11977715877437325"
      ]
     },
     "execution_count": 25,
     "metadata": {},
     "output_type": "execute_result"
    }
   ],
   "source": [
    "preyyt0= (prey_tab.T0_success/(prey_tab.T0_success+ prey_tab.T0_fail))\n",
    "preyyt0=preyyt0[0]\n",
    "preyyt0"
   ]
  },
  {
   "cell_type": "code",
   "execution_count": 27,
   "metadata": {},
   "outputs": [
    {
     "data": {
      "text/plain": [
       "22.39476808331826"
      ]
     },
     "execution_count": 27,
     "metadata": {},
     "output_type": "execute_result"
    }
   ],
   "source": [
    "zscorepy=((preyyt1)-preyyt0)/(((preyyt0*.95/86264))**0.5)\n",
    "#zscorepy=zscore.values[0]\n",
    "zscorepy\n",
    "#33916+44763+1662+5923b"
   ]
  },
  {
   "cell_type": "code",
   "execution_count": null,
   "metadata": {},
   "outputs": [],
   "source": []
  }
 ],
 "metadata": {
  "kernelspec": {
   "display_name": "Python 3",
   "language": "python",
   "name": "python3"
  },
  "language_info": {
   "codemirror_mode": {
    "name": "ipython",
    "version": 3
   },
   "file_extension": ".py",
   "mimetype": "text/x-python",
   "name": "python",
   "nbconvert_exporter": "python",
   "pygments_lexer": "ipython3",
   "version": "3.7.3"
  }
 },
 "nbformat": 4,
 "nbformat_minor": 2
}
