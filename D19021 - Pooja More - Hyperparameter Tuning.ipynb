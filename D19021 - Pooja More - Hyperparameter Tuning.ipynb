{
 "cells": [
  {
   "cell_type": "markdown",
   "metadata": {},
   "source": [
    "## D19021 - Pooja More - ML2 Assignment- Hyperparameter tuning in Decision Tree, Random Forest and Bagging"
   ]
  },
  {
   "cell_type": "markdown",
   "metadata": {},
   "source": [
    "### Objective : \n",
    "Hyperparameter tuning in Decision Tree, Random Forest and Bagging "
   ]
  },
  {
   "cell_type": "markdown",
   "metadata": {},
   "source": [
    "### Contents :\n",
    "To understand the following concepts :\n",
    "1. Decision Tree\n",
    "2. Hyperparameter tuning\n",
    "3. Hyperparameter tuning in Decision Tree\n",
    "4. Random Forest\n",
    "5. Hyperparameter tuning in Random Forest\n",
    "6. Bagging\n",
    "7. Basic difference between bagging and random forest.\n",
    "8. Hyperparameter tuning in bagging.\n",
    "9. Conclusion"
   ]
  },
  {
   "cell_type": "code",
   "execution_count": 65,
   "metadata": {},
   "outputs": [],
   "source": [
    "#Importing necessary Libraries\n",
    "\n",
    "import numpy as np\n",
    "import pandas as pd\n",
    "from matplotlib import pyplot as plt\n",
    "from sklearn.model_selection import train_test_split,GridSearchCV\n",
    "from sklearn.tree import DecisionTreeClassifier\n",
    "from sklearn.ensemble import RandomForestClassifier, BaggingClassifier, AdaBoostClassifier\n",
    "from sklearn.metrics import accuracy_score, classification_report,confusion_matrix,roc_auc_score,roc_curve"
   ]
  },
  {
   "cell_type": "code",
   "execution_count": 66,
   "metadata": {},
   "outputs": [],
   "source": [
    "#Reading the dataset\n",
    "\n",
    "disease=pd.read_csv(\"C:\\\\Users\\\\pooja\\\\Desktop\\\\PYTHON\\\\ML2\\\\disease.csv\")"
   ]
  },
  {
   "cell_type": "code",
   "execution_count": 67,
   "metadata": {},
   "outputs": [],
   "source": [
    "#Separating the predictors(X) and responses(Y)\n",
    "\n",
    "X = disease.drop(\"target\", axis=1)\n",
    "Y = disease[[\"target\"]]"
   ]
  },
  {
   "cell_type": "code",
   "execution_count": 68,
   "metadata": {},
   "outputs": [],
   "source": [
    "#Splitting the train test predictors and responses\n",
    "\n",
    "x_train,x_test,y_train,y_test=train_test_split(X,Y,test_size=0.4)"
   ]
  },
  {
   "cell_type": "markdown",
   "metadata": {},
   "source": [
    "### 1. Decision Tree\n",
    "\n",
    "Decision tree is the most powerful and popular tool for classification and prediction. A Decision tree is a flowchart like tree structure, where each internal node denotes a test on an attribute, each branch represents an outcome of the test, and each leaf node (terminal node) holds a class label.\n",
    "The construction of decision tree classifier does not require any domain knowledge or parameter setting, and therefore is appropriate for exploratory knowledge discovery. \n",
    "\n",
    "#### Strengths :\n",
    "* Decision trees are able to generate understandable rules.Also it is non-parametric.\n",
    "* Decision trees perform classification without requiring much computation.\n",
    "* Decision trees are able to handle both continuous and categorical variables.\n",
    "\n",
    "#### Weeknesses : \n",
    "* Decision trees are prone to errors in classification problems with many class and relatively small number of training examples, as it tries to ovrfit the samples in the model.\n",
    "* Decision tree can be computationally expensive to train. The process of growing a decision tree is computationally expensive. At each node, each candidate splitting field must be sorted before its best split can be found. In some algorithms, combinations of fields are used and a search must be made for optimal combining weights. Pruning algorithms can also be expensive since many candidate sub-trees must be formed and compared.\n",
    "* Decision tree is an algorithm with high variance."
   ]
  },
  {
   "cell_type": "code",
   "execution_count": 69,
   "metadata": {},
   "outputs": [],
   "source": [
    "#Decision Tree with default parameters\n",
    "\n",
    "dt=DecisionTreeClassifier()\n",
    "\n",
    "#Training the model on train data \n",
    "dt.fit(x_train,y_train)\n",
    "\n",
    "#Testing the model on test data\n",
    "pred1=pd.DataFrame(dt.predict(x_test))"
   ]
  },
  {
   "cell_type": "code",
   "execution_count": 70,
   "metadata": {},
   "outputs": [
    {
     "name": "stdout",
     "output_type": "stream",
     "text": [
      "DECISION TREE WITH DAFAULT HYPER PARAMETERS\n",
      "Train Data Score :  1.0\n",
      "Test Data Score :  0.7049180327868853\n",
      "Confusion Matrix : \n",
      " [[40 18]\n",
      " [18 46]]\n",
      "Accuracy Score :  0.7049180327868853\n",
      "Classification Report : \n",
      "               precision    recall  f1-score   support\n",
      "\n",
      "           0       0.69      0.69      0.69        58\n",
      "           1       0.72      0.72      0.72        64\n",
      "\n",
      "   micro avg       0.70      0.70      0.70       122\n",
      "   macro avg       0.70      0.70      0.70       122\n",
      "weighted avg       0.70      0.70      0.70       122\n",
      "\n",
      "ROC Score :  0.7042025862068967\n",
      "[0.         0.31034483 1.        ] [0.      0.71875 1.     ] [2 1 0]\n"
     ]
    }
   ],
   "source": [
    "#Printing the scores, confusion matrices, the accuracy and the ROC Curve\n",
    "\n",
    "print(\"DECISION TREE WITH DEFAULT HYPER PARAMETERS\")\n",
    "print(\"Train Data Score : \",dt.score(x_train,y_train))\n",
    "print(\"Test Data Score : \",dt.score(x_test,y_test))\n",
    "print(\"Confusion Matrix : \\n\",confusion_matrix(y_test,pred1))\n",
    "print(\"Accuracy Score : \",accuracy_score(y_test,pred1))\n",
    "print(\"Classification Report : \\n\",classification_report(y_test,pred1))\n",
    "roc_value = roc_auc_score(y_test,pred1)\n",
    "print(\"ROC Score : \",roc_value)\n",
    "fpr1,tpr1,thre1 = roc_curve(y_test,pred1)\n",
    "print(fpr1,tpr1,thre1)"
   ]
  },
  {
   "cell_type": "markdown",
   "metadata": {},
   "source": [
    "#### Observations :\n",
    "When we train the Decision Tree model with its default hyperparameter settings, we find that the train data score is **100%**, whereas the test data score is **70.5%**, very less as copared to the train data score.\n",
    "<br>**Thus here we can conclude that the decision tree has definitely overfitted the training data and is showing high variance on the test data.**"
   ]
  },
  {
   "cell_type": "markdown",
   "metadata": {},
   "source": [
    "### 2. Hyperparameter Tuning\n",
    "Hyperparameter tuning is searching the hyperparameter space for a set of values that will optimize your model architecture.\n",
    "This is different from tuning your model parameters where you search your feature space that will best minimize a cost function.\n",
    "**Hyperparameter tuning** is also tricky in the sense that there is no direct way to calculate how a change in the hyperparameter value will reduce the loss of your model, so we usually resort to experimentation. This starts with us specifying a range of possible values for all the hyperparameters. \n"
   ]
  },
  {
   "cell_type": "markdown",
   "metadata": {},
   "source": [
    "#### GridSearchCV() :\n",
    "GridSearchCV, a method that, instead of sampling randomly from a distribution, evaluates all combinations we define.\n",
    "The parameters of the estimator used to apply these methods are optimized by cross-validated grid-search over a parameter grid.\n",
    "\n",
    "**estimator:estimator object.**\n",
    "<br>This is assumed to implement the scikit-learn estimator interface. Either estimator needs to provide a score function, or scoring must be passed.\n",
    "\n",
    "**param_grid:dict or list of dictionaries**\n",
    "<br>Dictionary with parameters names (string) as keys and lists of parameter settings to try as values, or a list of such dictionaries, in which case the grids spanned by each dictionary in the list are explored. This enables searching over any sequence of parameter settings.\n",
    "\n",
    "**n_jobs:int or None, optional (default=None)**\n",
    "Number of jobs to run in parallel. None means 1 unless in a joblib.parallel_backend context. -1 means using all processors. See Glossary for more details.\n",
    "\n",
    "**verbose:integer**\n",
    "Controls the verbosity: the higher, the more messages."
   ]
  },
  {
   "cell_type": "code",
   "execution_count": 90,
   "metadata": {},
   "outputs": [
    {
     "name": "stdout",
     "output_type": "stream",
     "text": [
      "Fitting 3 folds for each of 42282 candidates, totalling 126846 fits\n"
     ]
    },
    {
     "name": "stderr",
     "output_type": "stream",
     "text": [
      "[Parallel(n_jobs=-1)]: Using backend LokyBackend with 4 concurrent workers.\n",
      "[Parallel(n_jobs=-1)]: Done  78 tasks      | elapsed:    4.4s\n",
      "[Parallel(n_jobs=-1)]: Done 3614 tasks      | elapsed:   15.9s\n",
      "[Parallel(n_jobs=-1)]: Done 9614 tasks      | elapsed:   35.4s\n",
      "[Parallel(n_jobs=-1)]: Done 18014 tasks      | elapsed:  1.0min\n",
      "[Parallel(n_jobs=-1)]: Done 28814 tasks      | elapsed:  1.6min\n",
      "[Parallel(n_jobs=-1)]: Done 42014 tasks      | elapsed:  2.4min\n",
      "[Parallel(n_jobs=-1)]: Done 57614 tasks      | elapsed:  3.2min\n",
      "[Parallel(n_jobs=-1)]: Done 75614 tasks      | elapsed:  4.2min\n",
      "[Parallel(n_jobs=-1)]: Done 96014 tasks      | elapsed:  5.3min\n",
      "[Parallel(n_jobs=-1)]: Done 118814 tasks      | elapsed:  6.5min\n",
      "[Parallel(n_jobs=-1)]: Done 126846 out of 126846 | elapsed:  7.0min finished\n"
     ]
    },
    {
     "name": "stdout",
     "output_type": "stream",
     "text": [
      "{'max_depth': 3, 'max_features': 4, 'min_samples_leaf': 2, 'min_samples_split': 10}\n"
     ]
    },
    {
     "name": "stderr",
     "output_type": "stream",
     "text": [
      "C:\\Users\\pooja\\Anaconda3\\lib\\site-packages\\sklearn\\model_selection\\_search.py:841: DeprecationWarning: The default of the `iid` parameter will change from True to False in version 0.22 and will be removed in 0.24. This will change numeric results when test-set sizes are unequal.\n",
      "  DeprecationWarning)\n"
     ]
    }
   ],
   "source": [
    "#Hyperparameter tuning using GridSearchCV()\n",
    "\n",
    "#Hyperparameter grid to be passed to the function\n",
    "max_features=range(1,10)\n",
    "max_depth = range(1,30)\n",
    "min_samples_split = range(2,20)\n",
    "min_samples_leaf = range(1,10)\n",
    "\n",
    "hyperT = dict(max_depth = max_depth, min_samples_split = min_samples_split, \n",
    "              min_samples_leaf = min_samples_leaf,max_features=max_features)\n",
    "\n",
    "gridT = GridSearchCV(dt, hyperT, cv = 3, verbose = 1, n_jobs = -1)\n",
    "bestT = gridT.fit(x_train, y_train)\n",
    "\n",
    "#printing the final best parameter values\n",
    "print(gridT.best_params_)"
   ]
  },
  {
   "cell_type": "markdown",
   "metadata": {},
   "source": [
    "#### Observations :\n",
    "Below are the values for the hyperparameter grid we paseed to the GriSearchCV for Decision Tree\n",
    "- max_depth : 3, \n",
    "- max_features : 4, \n",
    "- min_samples_leaf : 2, \n",
    "- min_samples_split : 10\n",
    "<br>Now we will use the above values of hyperpparameter to tune our decision tree model."
   ]
  },
  {
   "cell_type": "markdown",
   "metadata": {},
   "source": [
    "### 3. Hyperparameter Tuning in Decision Tree \n",
    "The Decision tree complexity has a crucial effect on its accuracy and it is explicitly controlled by the stopping criteria used and the pruning method employed. Usually, the tree complexity is measured by one of the following metrics: the total number of nodes, total number of leaves, tree depth and number of attributes used. max_depth, min_samples_split, and min_samples_leaf are all stopping criteria whereas min_weight_fraction_leaf and min_impurity_decrease are pruning methods. Here we are using the stopping criteria.\n",
    "\n",
    "#### DecisonTreeClassifier() : \n",
    "\n",
    "**criterion: string, optional (default=”gini”):**\n",
    "<br>The function to measure the quality of a split. Supported criteria are “gini” for the Gini impurity and “entropy” for the information gain.\n",
    "\n",
    "**max_depth: int or None, optional (default=None):**\n",
    "<br>The maximum depth of the tree. If None, then nodes are expanded until all leaves are pure or until all leaves contain less than min_samples_split samples.\n",
    "\n",
    "**min_samples_split: int, float, optional (default=2):**\n",
    "<br>The minimum number of samples required to split an internal node:\n",
    "- If int, then consider min_samples_split as the minimum number.\n",
    "- If float, then min_samples_split is a fraction and ceil(min_samples_split * n_samples) are the minimum number of samples for each split.\n",
    "\n",
    "**min_samples_leaf: int, float, optional (default=1):**\n",
    "<br>The minimum number of samples required to be at a leaf node. A split point at any depth will only be considered if it leaves at least min_samples_leaf training samples in each of the left and right branches. This may have the effect of smoothing the model, especially in regression.\n",
    "- If int, then consider min_samples_leaf as the minimum number.\n",
    "- If float, then min_samples_leaf is a fraction and ceil(min_samples_leaf * n_samples) are the minimum number of samples for each node.\n",
    "\n",
    "**max_features: int, float, string or None, optional (default=None):**\n",
    "<br>The number of features to consider when looking for the best split:\n",
    "- If int, then consider max_features features at each split.\n",
    "- If float, then max_features is a fraction and int(max_features * n_features) features are considered at each split.\n",
    "- If “auto”, then max_features=sqrt(n_features)."
   ]
  },
  {
   "cell_type": "code",
   "execution_count": 83,
   "metadata": {},
   "outputs": [],
   "source": [
    "#Decision Tree with hyperparameter tuning\n",
    "\n",
    "dt1=DecisionTreeClassifier(criterion='gini',splitter='random',max_depth=3,min_samples_split=10,min_samples_leaf=2,max_features=4)\n",
    "dt1.fit(x_train,y_train)\n",
    "\n",
    "pred11=pd.DataFrame(dt1.predict(x_test))"
   ]
  },
  {
   "cell_type": "code",
   "execution_count": 84,
   "metadata": {},
   "outputs": [
    {
     "name": "stdout",
     "output_type": "stream",
     "text": [
      "DECISION TREE WITH ADJUSTED HYPERPARAMETERS\n",
      "Train Data Score :  0.8011049723756906\n",
      "Test Data Score :  0.7377049180327869\n",
      "Confusion Matrix : \n",
      " [[41 17]\n",
      " [15 49]]\n",
      "Accuracy Score :  0.7377049180327869\n",
      "Classification Report : \n",
      "               precision    recall  f1-score   support\n",
      "\n",
      "           0       0.73      0.71      0.72        58\n",
      "           1       0.74      0.77      0.75        64\n",
      "\n",
      "   micro avg       0.74      0.74      0.74       122\n",
      "   macro avg       0.74      0.74      0.74       122\n",
      "weighted avg       0.74      0.74      0.74       122\n",
      "\n",
      "ROC Score :  0.736260775862069\n",
      "[0.         0.29310345 1.        ] [0.       0.765625 1.      ] [2 1 0]\n"
     ]
    }
   ],
   "source": [
    "#Printing the scores, confusion matrices, the accuracy and the ROC Curve\n",
    "\n",
    "print(\"DECISION TREE WITH ADJUSTED HYPERPARAMETERS\")\n",
    "print(\"Train Data Score : \",dt1.score(x_train,y_train))\n",
    "print(\"Test Data Score : \",dt1.score(x_test,y_test))\n",
    "print(\"Confusion Matrix : \\n\",confusion_matrix(y_test,pred11))\n",
    "print(\"Accuracy Score : \",accuracy_score(y_test,pred11))\n",
    "print(\"Classification Report : \\n\",classification_report(y_test,pred11))\n",
    "roc_value = roc_auc_score(y_test,pred11)\n",
    "print(\"ROC Score : \",roc_value)\n",
    "fpr,tpr,thre = roc_curve(y_test,pred11)\n",
    "print(fpr,tpr,thre)"
   ]
  },
  {
   "cell_type": "markdown",
   "metadata": {},
   "source": [
    "#### Observations :\n",
    "Here we find that when we tune the Decision tree with the best hyperparameters the variance have decreased between the train score and the test score. the train score is **80%** which might be less than the Decision Tree train score without hyperparameter tuning but the test score is **73.7%** which has not just improved, but also this model shows that there is no much overfitting in the tuned model"
   ]
  },
  {
   "cell_type": "code",
   "execution_count": 85,
   "metadata": {},
   "outputs": [
    {
     "data": {
      "image/png": "[encoded data removed]",
      "text/plain": [
       "<Figure size 432x288 with 1 Axes>"
      ]
     },
     "metadata": {
      "needs_background": "light"
     },
     "output_type": "display_data"
    }
   ],
   "source": [
    "#ROC curve plotting for both Decision tree model with and without hyperparameter tuning\n",
    "\n",
    "plt.clf()\n",
    "ax = plt.subplot(111)\n",
    "ax.plot(fpr1, tpr1,label=\"wo hyperparameter tuning\")\n",
    "ax.plot(fpr, tpr,label=\"with hyperparameter tuning\")\n",
    "plt.xlabel('FPR')\n",
    "plt.ylabel('TPR')\n",
    "plt.title('ROC curve')\n",
    "ax.legend()\n",
    "plt.show()"
   ]
  },
  {
   "cell_type": "markdown",
   "metadata": {},
   "source": [
    "#### Observations : \n",
    "The **Orange** curve shows the curve for Decision Tree with hyperparameter tuning thus we could see it is more accurate than the one without hyperparameter tuning shown in **Blue**."
   ]
  },
  {
   "cell_type": "markdown",
   "metadata": {},
   "source": [
    "### 4. Random Forest\n",
    "The reason the decision tree is prone to overfitting when we don’t limit the maximum depth is because it has unlimited flexibility, meaning that it can keep growing until it has exactly one leaf node for every single observation, perfectly classifying all of them. If you go back to the image of the decision tree and limit the maximum depth to 2 (making only a single split), the classifications are no longer 100% correct. We have reduced the variance of the decision tree but at the cost of increasing the bias.\n",
    "As an alternative to limiting the depth of the tree, which reduces variance (good) and increases bias (bad), we can combine many decision trees into a single ensemble model known as the random forest.\n",
    "\n",
    "The random forest is a model made up of many decision trees. Rather than just simply averaging the prediction of trees (which we could call a “forest”), this model uses two key concepts that gives it the name random:\n",
    "<br>1) Random sampling of training data points when building trees\n",
    "<br>2) Random subsets of features considered when splitting nodes\n",
    "<br><br>\n",
    "**The random forest combines hundreds or thousands of decision trees, trains each one on a slightly different set of the observations, splitting nodes in each tree considering a limited number of the features. The final predictions of the random forest are made by averaging the predictions of each individual tree.**"
   ]
  },
  {
   "cell_type": "code",
   "execution_count": 86,
   "metadata": {},
   "outputs": [
    {
     "name": "stderr",
     "output_type": "stream",
     "text": [
      "C:\\Users\\pooja\\Anaconda3\\lib\\site-packages\\sklearn\\ensemble\\forest.py:246: FutureWarning: The default value of n_estimators will change from 10 in version 0.20 to 100 in 0.22.\n",
      "  \"10 in version 0.20 to 100 in 0.22.\", FutureWarning)\n",
      "C:\\Users\\pooja\\Anaconda3\\lib\\site-packages\\ipykernel_launcher.py:3: DataConversionWarning: A column-vector y was passed when a 1d array was expected. Please change the shape of y to (n_samples,), for example using ravel().\n",
      "  This is separate from the ipykernel package so we can avoid doing imports until\n"
     ]
    }
   ],
   "source": [
    "#Random Forest Classifier with Default hyperparameters\n",
    "rf=RandomForestClassifier()\n",
    "rf.fit(x_train,y_train)\n",
    "pred2=pd.DataFrame(rf.predict(x_test))"
   ]
  },
  {
   "cell_type": "code",
   "execution_count": 87,
   "metadata": {},
   "outputs": [
    {
     "name": "stdout",
     "output_type": "stream",
     "text": [
      "RANDOM FOREST\n",
      "Train Data Score :  0.988950276243094\n",
      "Test Data Score :  0.8032786885245902\n",
      "Confusion Matrix : \n",
      " [[47 11]\n",
      " [13 51]]\n",
      "Accuracy Score :  0.8032786885245902\n",
      "Classification Report : \n",
      "               precision    recall  f1-score   support\n",
      "\n",
      "           0       0.78      0.81      0.80        58\n",
      "           1       0.82      0.80      0.81        64\n",
      "\n",
      "   micro avg       0.80      0.80      0.80       122\n",
      "   macro avg       0.80      0.80      0.80       122\n",
      "weighted avg       0.80      0.80      0.80       122\n",
      "\n",
      "ROC Score :  0.8036099137931034\n",
      "[0.         0.18965517 1.        ] [0.       0.796875 1.      ] [2 1 0]\n"
     ]
    }
   ],
   "source": [
    "#Printing the scores, confusion matrices, the accuracy and the ROC Curve\n",
    "\n",
    "print(\"RANDOM FOREST\")\n",
    "print(\"Train Data Score : \",rf.score(x_train,y_train))\n",
    "print(\"Test Data Score : \",rf.score(x_test,y_test))\n",
    "print(\"Confusion Matrix : \\n\",confusion_matrix(y_test,pred2))\n",
    "print(\"Accuracy Score : \",accuracy_score(y_test,pred2))\n",
    "print(\"Classification Report : \\n\",classification_report(y_test,pred2))\n",
    "roc_value = roc_auc_score(y_test,pred2)\n",
    "print(\"ROC Score : \",roc_value)\n",
    "fpr1,tpr1,thre1 = roc_curve(y_test,pred2)\n",
    "print(fpr1,tpr1,thre1)"
   ]
  },
  {
   "cell_type": "markdown",
   "metadata": {},
   "source": [
    "#### Observations : \n",
    "We could see that the Random Forest Model has overfitted the training data with almost **99%** train score where as the test score is **80%** here as well the variance is high, but definitely less than the variance of the Decison Tree without hyperparameter tuning."
   ]
  },
  {
   "cell_type": "markdown",
   "metadata": {},
   "source": [
    "### 5. Hyperparameter tuning in Random Forest\n",
    "\n",
    "\n",
    "#### RandomForestClassifier():\n",
    "**n_estimators:integer, optional (default=100):**\n",
    "<br>The number of trees in the forest.\n",
    "\n",
    "**max_depth:integer or None, optional (default=None):**\n",
    "<br>The maximum depth of the tree. If None, then nodes are expanded until all leaves are pure or until all leaves contain less than min_samples_split samples.\n",
    "\n",
    "**max_features:int, float, string or None, optional (default=”auto”) :**\n",
    "The number of features to consider when looking for the best split:\n",
    "- If int, then consider max_features features at each split.\n",
    "- If float, then max_features is a fraction and int(max_features * n_features) features are considered at each split.\n",
    "- If “auto”, then max_features=sqrt(n_features).\n",
    "\n",
    "**min_samples_split:int, float, optional (default=2):**\n",
    "The minimum number of samples required to split an internal node:\n",
    "- If int, then consider min_samples_split as the minimum number.\n",
    "- If float, then min_samples_split is a fraction and ceil(min_samples_split * n_samples) are the minimum number of samples for each split.\n",
    "\n",
    "**min_samples_leaf:int, float, optional (default=1):**\n",
    "The minimum number of samples required to be at a leaf node. A split point at any depth will only be considered if it leaves at least min_samples_leaf training samples in each of the left and right branches. This may have the effect of smoothing the model, especially in regression.\n",
    "- If int, then consider min_samples_leaf as the minimum number.\n",
    "- If float, then min_samples_leaf is a fraction and ceil(min_samples_leaf * n_samples) are the minimum number of samples for each node."
   ]
  },
  {
   "cell_type": "code",
   "execution_count": 8,
   "metadata": {},
   "outputs": [
    {
     "name": "stdout",
     "output_type": "stream",
     "text": [
      "Fitting 3 folds for each of 263088 candidates, totalling 789264 fits\n"
     ]
    },
    {
     "name": "stderr",
     "output_type": "stream",
     "text": [
      "[Parallel(n_jobs=-1)]: Using backend LokyBackend with 4 concurrent workers.\n",
      "[Parallel(n_jobs=-1)]: Done  59 tasks      | elapsed:    4.4s\n",
      "[Parallel(n_jobs=-1)]: Done 659 tasks      | elapsed:   12.2s\n",
      "[Parallel(n_jobs=-1)]: Done 1659 tasks      | elapsed:   24.5s\n",
      "[Parallel(n_jobs=-1)]: Done 3059 tasks      | elapsed:   41.2s\n",
      "[Parallel(n_jobs=-1)]: Done 4859 tasks      | elapsed:  1.1min\n",
      "[Parallel(n_jobs=-1)]: Done 7059 tasks      | elapsed:  1.8min\n",
      "[Parallel(n_jobs=-1)]: Done 9659 tasks      | elapsed:  2.6min\n",
      "[Parallel(n_jobs=-1)]: Done 12395 tasks      | elapsed:  3.5min\n",
      "[Parallel(n_jobs=-1)]: Done 14095 tasks      | elapsed:  4.1min\n",
      "[Parallel(n_jobs=-1)]: Done 15995 tasks      | elapsed:  4.9min\n",
      "[Parallel(n_jobs=-1)]: Done 19447 tasks      | elapsed:  6.1min\n",
      "[Parallel(n_jobs=-1)]: Done 24047 tasks      | elapsed:  7.6min\n",
      "[Parallel(n_jobs=-1)]: Done 29047 tasks      | elapsed:  9.2min\n",
      "[Parallel(n_jobs=-1)]: Done 34447 tasks      | elapsed: 10.9min\n",
      "[Parallel(n_jobs=-1)]: Done 40247 tasks      | elapsed: 12.8min\n",
      "[Parallel(n_jobs=-1)]: Done 46447 tasks      | elapsed: 14.2min\n",
      "[Parallel(n_jobs=-1)]: Done 53047 tasks      | elapsed: 15.5min\n",
      "[Parallel(n_jobs=-1)]: Done 60047 tasks      | elapsed: 17.1min\n",
      "[Parallel(n_jobs=-1)]: Done 67447 tasks      | elapsed: 18.6min\n",
      "[Parallel(n_jobs=-1)]: Done 75247 tasks      | elapsed: 20.2min\n",
      "[Parallel(n_jobs=-1)]: Done 83447 tasks      | elapsed: 21.8min\n",
      "[Parallel(n_jobs=-1)]: Done 92047 tasks      | elapsed: 23.8min\n",
      "[Parallel(n_jobs=-1)]: Done 101047 tasks      | elapsed: 26.3min\n",
      "[Parallel(n_jobs=-1)]: Done 110447 tasks      | elapsed: 28.5min\n",
      "[Parallel(n_jobs=-1)]: Done 120247 tasks      | elapsed: 30.5min\n",
      "[Parallel(n_jobs=-1)]: Done 130447 tasks      | elapsed: 32.6min\n",
      "[Parallel(n_jobs=-1)]: Done 141047 tasks      | elapsed: 34.8min\n",
      "[Parallel(n_jobs=-1)]: Done 152047 tasks      | elapsed: 37.1min\n",
      "[Parallel(n_jobs=-1)]: Done 163447 tasks      | elapsed: 39.4min\n",
      "[Parallel(n_jobs=-1)]: Done 175247 tasks      | elapsed: 41.7min\n",
      "[Parallel(n_jobs=-1)]: Done 187447 tasks      | elapsed: 44.1min\n",
      "[Parallel(n_jobs=-1)]: Done 200047 tasks      | elapsed: 46.7min\n",
      "[Parallel(n_jobs=-1)]: Done 213047 tasks      | elapsed: 49.3min\n",
      "[Parallel(n_jobs=-1)]: Done 226447 tasks      | elapsed: 52.0min\n",
      "[Parallel(n_jobs=-1)]: Done 240247 tasks      | elapsed: 54.7min\n",
      "[Parallel(n_jobs=-1)]: Done 254447 tasks      | elapsed: 57.5min\n",
      "[Parallel(n_jobs=-1)]: Done 269047 tasks      | elapsed: 60.4min\n",
      "[Parallel(n_jobs=-1)]: Done 284047 tasks      | elapsed: 63.6min\n",
      "[Parallel(n_jobs=-1)]: Done 299447 tasks      | elapsed: 66.6min\n",
      "[Parallel(n_jobs=-1)]: Done 315247 tasks      | elapsed: 69.7min\n",
      "[Parallel(n_jobs=-1)]: Done 331447 tasks      | elapsed: 73.0min\n",
      "[Parallel(n_jobs=-1)]: Done 348047 tasks      | elapsed: 76.3min\n",
      "[Parallel(n_jobs=-1)]: Done 365047 tasks      | elapsed: 79.6min\n",
      "[Parallel(n_jobs=-1)]: Done 382447 tasks      | elapsed: 83.2min\n",
      "[Parallel(n_jobs=-1)]: Done 400247 tasks      | elapsed: 86.7min\n",
      "[Parallel(n_jobs=-1)]: Done 418447 tasks      | elapsed: 90.4min\n",
      "[Parallel(n_jobs=-1)]: Done 437047 tasks      | elapsed: 94.1min\n",
      "[Parallel(n_jobs=-1)]: Done 456047 tasks      | elapsed: 97.9min\n",
      "[Parallel(n_jobs=-1)]: Done 475447 tasks      | elapsed: 101.7min\n",
      "[Parallel(n_jobs=-1)]: Done 495247 tasks      | elapsed: 106.5min\n",
      "[Parallel(n_jobs=-1)]: Done 515447 tasks      | elapsed: 111.9min\n",
      "[Parallel(n_jobs=-1)]: Done 536047 tasks      | elapsed: 117.4min\n",
      "[Parallel(n_jobs=-1)]: Done 557047 tasks      | elapsed: 123.3min\n",
      "[Parallel(n_jobs=-1)]: Done 578447 tasks      | elapsed: 129.7min\n",
      "[Parallel(n_jobs=-1)]: Done 600247 tasks      | elapsed: 135.5min\n",
      "[Parallel(n_jobs=-1)]: Done 622447 tasks      | elapsed: 141.5min\n",
      "[Parallel(n_jobs=-1)]: Done 645047 tasks      | elapsed: 147.4min\n",
      "[Parallel(n_jobs=-1)]: Done 668047 tasks      | elapsed: 153.5min\n",
      "[Parallel(n_jobs=-1)]: Done 691249 tasks      | elapsed: 160.3min\n",
      "[Parallel(n_jobs=-1)]: Done 714679 tasks      | elapsed: 166.9min\n",
      "[Parallel(n_jobs=-1)]: Done 738879 tasks      | elapsed: 173.3min\n",
      "[Parallel(n_jobs=-1)]: Done 763479 tasks      | elapsed: 178.7min\n",
      "[Parallel(n_jobs=-1)]: Done 788479 tasks      | elapsed: 184.5min\n",
      "[Parallel(n_jobs=-1)]: Done 789264 out of 789264 | elapsed: 184.7min finished\n",
      "C:\\Users\\pooja\\Anaconda3\\lib\\site-packages\\sklearn\\model_selection\\_search.py:841: DeprecationWarning: The default of the `iid` parameter will change from True to False in version 0.22 and will be removed in 0.24. This will change numeric results when test-set sizes are unequal.\n",
      "  DeprecationWarning)\n",
      "C:\\Users\\pooja\\Anaconda3\\lib\\site-packages\\sklearn\\model_selection\\_search.py:740: DataConversionWarning: A column-vector y was passed when a 1d array was expected. Please change the shape of y to (n_samples,), for example using ravel().\n",
      "  self.best_estimator_.fit(X, y, **fit_params)\n"
     ]
    },
    {
     "name": "stdout",
     "output_type": "stream",
     "text": [
      "{'max_depth': 5, 'max_features': 6, 'min_samples_leaf': 3, 'min_samples_split': 7, 'n_estimators': 7}\n"
     ]
    }
   ],
   "source": [
    "#Hyperparameter tuning using GridSearchCV()\n",
    "\n",
    "#Hyperparameter grid to be passed to the function\n",
    "n_estimators = range(1,30)\n",
    "max_features=range(1,10)\n",
    "max_depth = range(1,15)\n",
    "min_samples_split = range(2,10)\n",
    "min_samples_leaf = range(1,10)\n",
    "\n",
    "hyperT = dict(n_estimators=n_estimators,max_depth = max_depth, min_samples_split = min_samples_split, \n",
    "              min_samples_leaf = min_samples_leaf,max_features=max_features)\n",
    "\n",
    "gridT = GridSearchCV(rf, hyperT, cv = 3, verbose = 1, n_jobs = -1)\n",
    "bestT = gridT.fit(x_train, y_train)\n",
    "print(gridT.best_params_)"
   ]
  },
  {
   "cell_type": "markdown",
   "metadata": {},
   "source": [
    "#### Observations : \n",
    "After almost 3 hours of tuning performed by the functions we got the below values for tuning the hyperparameters in RAndom Forest model for our dataset.\n",
    "- max_depth : 5, \n",
    "- max_features : 6, \n",
    "- min_samples_leaf : 3, \n",
    "- min_samples_split : 7,\n",
    "- n_estimators : 7\n",
    "<br>Now we will use the above values of hyperparameter to tune our random forest model."
   ]
  },
  {
   "cell_type": "code",
   "execution_count": 90,
   "metadata": {},
   "outputs": [
    {
     "name": "stderr",
     "output_type": "stream",
     "text": [
      "C:\\Users\\pooja\\Anaconda3\\lib\\site-packages\\ipykernel_launcher.py:4: DataConversionWarning: A column-vector y was passed when a 1d array was expected. Please change the shape of y to (n_samples,), for example using ravel().\n",
      "  after removing the cwd from sys.path.\n"
     ]
    }
   ],
   "source": [
    "#Random Forest Classifier with Hyperparameter tuning\n",
    "\n",
    "rf=RandomForestClassifier(n_estimators=7,max_depth = 5,min_samples_split = 7,min_samples_leaf = 3,max_features=6)\n",
    "rf.fit(x_train,y_train)\n",
    "pred21=pd.DataFrame(rf.predict(x_test))"
   ]
  },
  {
   "cell_type": "code",
   "execution_count": 91,
   "metadata": {},
   "outputs": [
    {
     "name": "stdout",
     "output_type": "stream",
     "text": [
      "RANDOM FOREST WITH TUNED HYPERPARAMETERS\n",
      "Train Data Score :  0.9116022099447514\n",
      "Test Data Score :  0.7950819672131147\n",
      "Confusion Matrix : \n",
      " [[47 11]\n",
      " [14 50]]\n",
      "Accuracy Score :  0.7950819672131147\n",
      "Classification Report : \n",
      "               precision    recall  f1-score   support\n",
      "\n",
      "           0       0.77      0.81      0.79        58\n",
      "           1       0.82      0.78      0.80        64\n",
      "\n",
      "   micro avg       0.80      0.80      0.80       122\n",
      "   macro avg       0.80      0.80      0.79       122\n",
      "weighted avg       0.80      0.80      0.80       122\n",
      "\n",
      "ROC Score :  0.7957974137931034\n",
      "[0.         0.18965517 1.        ] [0.      0.78125 1.     ] [2 1 0]\n"
     ]
    }
   ],
   "source": [
    "#Printing the scores, confusion matrices, the accuracy and the ROC Curve\n",
    "\n",
    "print(\"RANDOM FOREST WITH TUNED HYPERPARAMETERS\")\n",
    "print(\"Train Data Score : \",rf.score(x_train,y_train))\n",
    "print(\"Test Data Score : \",rf.score(x_test,y_test))\n",
    "print(\"Confusion Matrix : \\n\",confusion_matrix(y_test,pred21))\n",
    "print(\"Accuracy Score : \",accuracy_score(y_test,pred21))\n",
    "print(\"Classification Report : \\n\",classification_report(y_test,pred21))\n",
    "roc_value = roc_auc_score(y_test,pred21)\n",
    "print(\"ROC Score : \",roc_value)\n",
    "fpr,tpr,thre = roc_curve(y_test,pred21)\n",
    "print(fpr,tpr,thre)"
   ]
  },
  {
   "cell_type": "markdown",
   "metadata": {},
   "source": [
    "#### Observations :\n",
    "Thus we can find that here their is less variability between the train score **91.1%** and test score **80%** after the hyperparameter tuning. Also the model is not overfitting unlike Decision Tree as Random forest aggregates the results of all the trees in the model."
   ]
  },
  {
   "cell_type": "code",
   "execution_count": 59,
   "metadata": {},
   "outputs": [
    {
     "data": {
      "image/png": "[encoded data removed]",
      "text/plain": [
       "<Figure size 432x288 with 1 Axes>"
      ]
     },
     "metadata": {
      "needs_background": "light"
     },
     "output_type": "display_data"
    }
   ],
   "source": [
    "#ROC curve plotting for both Random Forest model with and without hyperparameter tuning\n",
    "\n",
    "plt.clf()\n",
    "ax = plt.subplot(111)\n",
    "ax.plot(fpr1, tpr1,label=\"wo hyperparameter tuning\")\n",
    "ax.plot(fpr, tpr,label=\"with hyperparameter tuning\")\n",
    "plt.xlabel('FPR')\n",
    "plt.ylabel('TPR')\n",
    "plt.title('ROC curve')\n",
    "ax.legend()\n",
    "plt.show()"
   ]
  },
  {
   "cell_type": "markdown",
   "metadata": {},
   "source": [
    "#### Observations :\n",
    "The accuracy of both the models **Orange** with hyperparameter tuning and **Blue** without hyperparameter tuning is almost same here approx **80%**, but it may differ from sample to sample as overfitting is avoided in the model tuned with hyperparameter."
   ]
  },
  {
   "cell_type": "markdown",
   "metadata": {},
   "source": [
    "### 6. Bagging\n",
    "Bootstrap Aggregation (or Bagging for short), is a simple and very powerful ensemble method.\n",
    "An ensemble method is a technique that combines the predictions from multiple machine learning algorithms together to make more accurate predictions than any individual model.\n",
    "\n",
    "Bootstrap Aggregation is a general procedure that can be used to reduce the variance for those algorithm that have high variance. An algorithm that has high variance are decision trees, like classification and regression trees (CART).\n",
    "Decision trees are sensitive to the specific data on which they are trained. If the training data is changed (e.g. a tree is trained on a subset of the training data) the resulting decision tree can be quite different and in turn the predictions can be quite different.Bagging is the application of the Bootstrap procedure to a high-variance machine learning algorithm, typically decision trees."
   ]
  },
  {
   "cell_type": "markdown",
   "metadata": {},
   "source": [
    "### 7. Basic difference between bagging and random forest\n",
    "The fundamental difference between bagging and random forest is that in Random forests, only a subset of features are selected at random out of the total and the best split feature from the subset is used to split each node in a tree, unlike in bagging where all features are considered for splitting a node.\n",
    "\n",
    "A problem with decision trees like CART is that they are greedy. They choose which variable to split on using a greedy algorithm that minimizes error. As such, even with Bagging, the decision trees can have a lot of structural similarities and in turn have high correlation in their predictions.\n",
    "\n",
    "Combining predictions from multiple models in ensembles works better if the predictions from the sub-models are uncorrelated or at best weakly correlated.\n",
    "\n",
    "Random forest changes the algorithm for the way that the sub-trees are learned so that the resulting predictions from all of the subtrees have less correlation.\n",
    "\n",
    "It is a simple tweak. In CART, when selecting a split point, the learning algorithm is allowed to look through all variables and all variable values in order to select the most optimal split-point. The random forest algorithm changes this procedure so that the learning algorithm is limited to a random sample of features of which to search."
   ]
  },
  {
   "cell_type": "code",
   "execution_count": 92,
   "metadata": {},
   "outputs": [
    {
     "name": "stderr",
     "output_type": "stream",
     "text": [
      "C:\\Users\\pooja\\Anaconda3\\lib\\site-packages\\sklearn\\ensemble\\bagging.py:622: DataConversionWarning: A column-vector y was passed when a 1d array was expected. Please change the shape of y to (n_samples, ), for example using ravel().\n",
      "  y = column_or_1d(y, warn=True)\n"
     ]
    }
   ],
   "source": [
    "#Bagging Classfier with Default parameters\n",
    "\n",
    "bg=BaggingClassifier()\n",
    "bg.fit(x_train,y_train)\n",
    "pred3=pd.DataFrame(bg.predict(x_test))"
   ]
  },
  {
   "cell_type": "code",
   "execution_count": 94,
   "metadata": {},
   "outputs": [
    {
     "name": "stdout",
     "output_type": "stream",
     "text": [
      "BAGGING CLASSIFIER WITH DEFAULT HYPERPARAMETERS\n",
      "Train Data Score :  0.994475138121547\n",
      "Test Data Score :  0.7704918032786885\n",
      "Confusion Matrix : \n",
      " [[45 13]\n",
      " [15 49]]\n",
      "Accuracy Score :  0.7704918032786885\n",
      "Classification Report : \n",
      "               precision    recall  f1-score   support\n",
      "\n",
      "           0       0.75      0.78      0.76        58\n",
      "           1       0.79      0.77      0.78        64\n",
      "\n",
      "   micro avg       0.77      0.77      0.77       122\n",
      "   macro avg       0.77      0.77      0.77       122\n",
      "weighted avg       0.77      0.77      0.77       122\n",
      "\n",
      "ROC Score :  0.7707435344827586\n",
      "[0.         0.22413793 1.        ] [0.       0.765625 1.      ] [2 1 0]\n"
     ]
    }
   ],
   "source": [
    "#Printing the scores, confusion matrices, the accuracy and the ROC Curve\n",
    "\n",
    "print(\"BAGGING CLASSIFIER WITH DEFAULT HYPERPARAMETERS\")\n",
    "print(\"Train Data Score : \",bg.score(x_train,y_train))\n",
    "print(\"Test Data Score : \",bg.score(x_test,y_test))\n",
    "print(\"Confusion Matrix : \\n\",confusion_matrix(y_test,pred3))\n",
    "print(\"Accuracy Score : \",accuracy_score(y_test,pred3))\n",
    "print(\"Classification Report : \\n\",classification_report(y_test,pred3))\n",
    "roc_value = roc_auc_score(y_test,pred3)\n",
    "print(\"ROC Score : \",roc_value)\n",
    "fpr1,tpr1,thre1 = roc_curve(y_test,pred3)\n",
    "print(fpr1,tpr1,thre1)"
   ]
  },
  {
   "cell_type": "markdown",
   "metadata": {},
   "source": [
    "#### Observations :\n",
    "Here as well we can find that the Bagging model with default parameter settings is overfitting the training data with train score **99.5%** and that of the test is **77.04%**. This may be also because of the fact that all the trees in Bagging model uses the same set of features for prediction. Thus we need to tune the hyperparameter to avoid the model from overfitting and lower the variance in the train and test score. "
   ]
  },
  {
   "cell_type": "markdown",
   "metadata": {},
   "source": [
    "### 8. Hyperparameter tuning in Bagging\n",
    "\n",
    "#### BaggingClassifier() :\n",
    "Here we consider only the following parameters\n",
    "\n",
    "**n_estimators:int, optional (default=10)**\n",
    "<br>The number of base estimators in the ensemble.\n",
    "\n",
    "**max_samples:int or float, optional (default=1.0)**\n",
    "<br>The number of samples to draw from X to train each base estimator.\n",
    "- If int, then draw max_samples samples.\n",
    "- If float, then draw max_samples * X.shape[0] samples.\n",
    "\n",
    "**max_features:int or float, optional (default=1.0)**\n",
    "<br>The number of features to draw from X to train each base estimator.\n",
    "- If int, then draw max_features features.\n",
    "- **If float, then draw max_features * X.shape[1] features.\n",
    "\n",
    "**bootstrap:boolean, optional (default=True)**\n",
    "<br>Whether samples are drawn with replacement. If False, sampling without replacement is performed.\n"
   ]
  },
  {
   "cell_type": "code",
   "execution_count": 13,
   "metadata": {},
   "outputs": [
    {
     "name": "stdout",
     "output_type": "stream",
     "text": [
      "Fitting 3 folds for each of 25839 candidates, totalling 77517 fits\n"
     ]
    },
    {
     "name": "stderr",
     "output_type": "stream",
     "text": [
      "[Parallel(n_jobs=-1)]: Using backend LokyBackend with 4 concurrent workers.\n",
      "[Parallel(n_jobs=-1)]: Done 264 tasks      | elapsed:    8.2s\n",
      "[Parallel(n_jobs=-1)]: Done 568 tasks      | elapsed:   18.0s\n",
      "[Parallel(n_jobs=-1)]: Done 1182 tasks      | elapsed:   41.2s\n",
      "[Parallel(n_jobs=-1)]: Done 1866 tasks      | elapsed:  1.1min\n",
      "[Parallel(n_jobs=-1)]: Done 2888 tasks      | elapsed:  1.8min\n",
      "[Parallel(n_jobs=-1)]: Done 4640 tasks      | elapsed:  2.8min\n",
      "[Parallel(n_jobs=-1)]: Done 6590 tasks      | elapsed:  3.9min\n",
      "[Parallel(n_jobs=-1)]: Done 8840 tasks      | elapsed:  5.0min\n",
      "[Parallel(n_jobs=-1)]: Done 11390 tasks      | elapsed:  6.4min\n",
      "[Parallel(n_jobs=-1)]: Done 14240 tasks      | elapsed:  8.0min\n",
      "[Parallel(n_jobs=-1)]: Done 17390 tasks      | elapsed:  9.6min\n",
      "[Parallel(n_jobs=-1)]: Done 20374 tasks      | elapsed: 11.6min\n",
      "[Parallel(n_jobs=-1)]: Done 23652 tasks      | elapsed: 13.7min\n",
      "[Parallel(n_jobs=-1)]: Done 26622 tasks      | elapsed: 15.8min\n",
      "[Parallel(n_jobs=-1)]: Done 30480 tasks      | elapsed: 18.3min\n",
      "[Parallel(n_jobs=-1)]: Done 34140 tasks      | elapsed: 20.8min\n",
      "[Parallel(n_jobs=-1)]: Done 38259 tasks      | elapsed: 23.6min\n",
      "[Parallel(n_jobs=-1)]: Done 42695 tasks      | elapsed: 26.5min\n",
      "[Parallel(n_jobs=-1)]: Done 48723 tasks      | elapsed: 30.0min\n",
      "[Parallel(n_jobs=-1)]: Done 53817 tasks      | elapsed: 33.5min\n",
      "[Parallel(n_jobs=-1)]: Done 57933 tasks      | elapsed: 36.3min\n",
      "[Parallel(n_jobs=-1)]: Done 62233 tasks      | elapsed: 39.1min\n",
      "[Parallel(n_jobs=-1)]: Done 67233 tasks      | elapsed: 42.3min\n",
      "[Parallel(n_jobs=-1)]: Done 72633 tasks      | elapsed: 45.8min\n",
      "[Parallel(n_jobs=-1)]: Done 77517 out of 77517 | elapsed: 49.1min finished\n",
      "C:\\Users\\pooja\\Anaconda3\\lib\\site-packages\\sklearn\\model_selection\\_search.py:841: DeprecationWarning: The default of the `iid` parameter will change from True to False in version 0.22 and will be removed in 0.24. This will change numeric results when test-set sizes are unequal.\n",
      "  DeprecationWarning)\n",
      "C:\\Users\\pooja\\Anaconda3\\lib\\site-packages\\sklearn\\ensemble\\bagging.py:622: DataConversionWarning: A column-vector y was passed when a 1d array was expected. Please change the shape of y to (n_samples, ), for example using ravel().\n",
      "  y = column_or_1d(y, warn=True)\n"
     ]
    },
    {
     "name": "stdout",
     "output_type": "stream",
     "text": [
      "{'max_features': 4, 'max_samples': 23, 'n_estimators': 61}\n"
     ]
    }
   ],
   "source": [
    "#Hyperparameter tuning using GridSearchCV()\n",
    "\n",
    "#Hyperparameter grid to be passed to the function\n",
    "n_estimators = range(1,100)\n",
    "max_features=range(1,10)\n",
    "max_samples = range(1,30)\n",
    "\n",
    "hyperT = dict(n_estimators=n_estimators,max_samples = max_samples,max_features=max_features)\n",
    "\n",
    "gridT = GridSearchCV(bg, hyperT, cv = 3, verbose = 1, n_jobs = -1)\n",
    "bestT = gridT.fit(x_train, y_train)\n",
    "print(gridT.best_params_)"
   ]
  },
  {
   "cell_type": "code",
   "execution_count": 102,
   "metadata": {},
   "outputs": [
    {
     "name": "stderr",
     "output_type": "stream",
     "text": [
      "C:\\Users\\pooja\\Anaconda3\\lib\\site-packages\\sklearn\\ensemble\\bagging.py:622: DataConversionWarning: A column-vector y was passed when a 1d array was expected. Please change the shape of y to (n_samples, ), for example using ravel().\n",
      "  y = column_or_1d(y, warn=True)\n"
     ]
    }
   ],
   "source": [
    "#Bagging Classfier\n",
    "\n",
    "bg=BaggingClassifier(n_estimators=61,max_samples =23,max_features=4)\n",
    "bg.fit(x_train,y_train)\n",
    "pred31=pd.DataFrame(bg.predict(x_test))"
   ]
  },
  {
   "cell_type": "code",
   "execution_count": 103,
   "metadata": {},
   "outputs": [
    {
     "name": "stdout",
     "output_type": "stream",
     "text": [
      "BAGGING CLASSIFIER\n",
      "Train Data Score :  0.9116022099447514\n",
      "Test Data Score :  0.8032786885245902\n",
      "Confusion Matrix : \n",
      " [[40 18]\n",
      " [ 6 58]]\n",
      "Accuracy Score :  0.8032786885245902\n",
      "Classification Report : \n",
      "               precision    recall  f1-score   support\n",
      "\n",
      "           0       0.87      0.69      0.77        58\n",
      "           1       0.76      0.91      0.83        64\n",
      "\n",
      "   micro avg       0.80      0.80      0.80       122\n",
      "   macro avg       0.82      0.80      0.80       122\n",
      "weighted avg       0.81      0.80      0.80       122\n",
      "\n",
      "ROC Score :  0.7979525862068966\n",
      "[0.         0.31034483 1.        ] [0.      0.90625 1.     ] [2 1 0]\n"
     ]
    }
   ],
   "source": [
    "#Printing the scores, confusion matrices, the accuracy and the ROC Curve\n",
    "\n",
    "print(\"BAGGING CLASSIFIER\")\n",
    "print(\"Train Data Score : \",bg.score(x_train,y_train))\n",
    "print(\"Test Data Score : \",bg.score(x_test,y_test))\n",
    "print(\"Confusion Matrix : \\n\",confusion_matrix(y_test,pred31))\n",
    "print(\"Accuracy Score : \",accuracy_score(y_test,pred31))\n",
    "print(\"Classification Report : \\n\",classification_report(y_test,pred31))\n",
    "roc_value = roc_auc_score(y_test,pred31)\n",
    "print(\"ROC Score : \",roc_value)\n",
    "fpr1,tpr1,thre1 = roc_curve(y_test,pred31)\n",
    "print(fpr1,tpr1,thre1)"
   ]
  },
  {
   "cell_type": "markdown",
   "metadata": {},
   "source": [
    "#### Observations :\n",
    "We could find that the overfitting has reduced substantially as compared to the previous bagging model, here the train score is **91.11%** and the test score is **80.3%** which is greater than the test score of the model without hyperparameter tuning. This again may vary according to the samples but the main focus is that overfitting and variance has reduced substantially."
   ]
  },
  {
   "cell_type": "code",
   "execution_count": 104,
   "metadata": {},
   "outputs": [
    {
     "data": {
      "image/png": "[encoded data removed]",
      "text/plain": [
       "<Figure size 432x288 with 1 Axes>"
      ]
     },
     "metadata": {
      "needs_background": "light"
     },
     "output_type": "display_data"
    }
   ],
   "source": [
    "# ROC curve plotting for both the Bagging Models with and without hyperparameter tuning\n",
    "\n",
    "plt.clf()\n",
    "ax = plt.subplot(111)\n",
    "ax.plot(fpr1, tpr1,label=\"wo hyperparameter tuning\")\n",
    "ax.plot(fpr, tpr,label=\"with hyperparameter tuning\")\n",
    "plt.xlabel('FPR')\n",
    "plt.ylabel('TPR')\n",
    "plt.title('ROC curve')\n",
    "ax.legend()\n",
    "plt.show()"
   ]
  },
  {
   "cell_type": "markdown",
   "metadata": {},
   "source": [
    "#### Observations :\n",
    "The **Orange** curve is for with Hyperparameter tuned model whereas the **Blue** is for the model with default hyperparameters. Looking at the curve we may not be able to figure clearmy figure out which model is better but the accuracy numbers shows that the model with default parameters have accuracy of **77%** and that of the model with tuned hyperparametrs is almost **80%**"
   ]
  },
  {
   "cell_type": "markdown",
   "metadata": {},
   "source": [
    "### 9. Conclusion \n",
    "* From all our observations we understand that **Decision Tree** is more prone to overfitting and high variance, thus we need to tune the hyperparameters to stop the decision tree from growing to its full length(early stopping rule). For this we focused on the hyperparameters like max_depth, max_features, min_samples_leaf, min_samples_split.<br><br>\n",
    "\n",
    "* In **Bagging** we aggregate the results from all the trees of the Bagging model to get the final response of the oobservation. Here the same set of features is used by all the trees in the model this may be the reason for model overfitting and hence we need to tune them to improve the overall accuracy of the model on the test data. The hyperparameters which we used for tuning are are n_estimators, max_features, max_samples. Thus after hyperparameter tuning we find that the overfitting has reduced and also the accuracy of the model on the test/unseen data has increased.<br><br>\n",
    "\n",
    "* The only difference between Bagging and random forest is that in **Random Forest** all the trees uses different sets of features to predict the result and then the results are aggregated this itself avaoid random forest upto some extend to overfit the training data and also reduce the variance. In our example we did find that the model was still overfitting the training data so we tuned the hyperparameter by using GridSearchCV and reduced the overfitting and made sure that the model gives less variance overall. A small decrease in performance indicates we have reached diminishing returns for hyperparameter tuning. We could continue, but the returns would be minimal at best."
   ]
  }
 ],
 "metadata": {
  "kernelspec": {
   "display_name": "Python 3",
   "language": "python",
   "name": "python3"
  },
  "language_info": {
   "codemirror_mode": {
    "name": "ipython",
    "version": 3
   },
   "file_extension": ".py",
   "mimetype": "text/x-python",
   "name": "python",
   "nbconvert_exporter": "python",
   "pygments_lexer": "ipython3",
   "version": "3.7.3"
  }
 },
 "nbformat": 4,
 "nbformat_minor": 2
}
