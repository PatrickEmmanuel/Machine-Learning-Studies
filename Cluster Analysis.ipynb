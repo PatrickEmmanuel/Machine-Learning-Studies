{
 "cells": [
  {
   "cell_type": "markdown",
   "metadata": {},
   "source": [
    "### Cluster Analysis"
   ]
  },
  {
   "cell_type": "markdown",
   "metadata": {},
   "source": [
    "### Contents :\n",
    "\n",
    "I. Unsupervied Learning Models in Machine Learning(ML)\n",
    "<br>II. Cluster Analysis\n",
    "<br>III. Types of Cluster Analysis\n",
    "<br>IV. K-Means Clustering\n",
    "<br>V. K-Means Algorithm\n",
    "<br>VI. Implementation of K-Means Clustering Algorithm using **'Framingham Heart  Study Dataset'** dataset with interpretations.\n",
    "<br>VII. Conclusion"
   ]
  },
  {
   "cell_type": "markdown",
   "metadata": {},
   "source": [
    "### I. Unsupervied Learning Models in Machine Learning(ML)\n",
    "These are the set of Machine Learning Algorithms which do not have the knowledge of the outcome variable in the dataset.\n",
    "<br>The algorithm must find out the possible values of the outcome variable.\n",
    "\n",
    "<br>**Examples :** Clustering, Principal Component Analysis."
   ]
  },
  {
   "cell_type": "markdown",
   "metadata": {},
   "source": [
    "### II. Cluster Analysis \n",
    "* Clustering is the process of dividing the datasets into groups, consisting of similar data points.\n",
    "* Points in the same group are as similar as possible.\n",
    "* Points in different group are as different as possible.\n",
    "\n",
    "#### Business Use :\n",
    "1. Retail Business : *analyzing customer shopping behaviour, sales campaign and customer retention.*\n",
    "2. Insurance Industry : *Fraud Detection, Risk Factor Identification and customer retention.*\n",
    "3. Banking Sector : *Customer Segmentation, Credit Scoring and analyzing custoner profitability.*\n",
    "\n",
    "#### Applications using Clustering Analysis :\n",
    "1. Netflix for movie recommendation.\n",
    "2. Amazon recommendation system.\n",
    "3. Flickr Photos."
   ]
  },
  {
   "cell_type": "markdown",
   "metadata": {},
   "source": [
    "### III. Types of Clustering\n",
    "\n",
    "#### 1. Exclusive Clustering :\n",
    "It is a hard clustering method, which means the data points belongs exclusively to one cluster.\n",
    "<br>**Examples :** K-Means Clustering.\n",
    "\n",
    "#### 2. Overlapping Clustering :\n",
    "It is a soft clustering method, which means the data points may belong to multiple clusters.\n",
    "<br>**Examples :** Fuzzy, C-Means Clustering\n",
    "\n",
    "#### 3. Hierarchical Clustering :\n",
    "It is a method of cluster analysis which seeks to build a hierarchy of clusters.\n",
    "<br>Strategies for hierarchical clustering generally fall into two types:\n",
    "\n",
    "**a) Agglomerative Clustering :**\n",
    "Each datapoint starts in its own cluster and pairs of clusters are merged as one moves up the hierarchy.\n",
    "\n",
    "**b) Divisive Clustering :**\n",
    "All datapoints start in one cluster, then splits are performed recursively as one moves down the hierarchy."
   ]
  },
  {
   "cell_type": "markdown",
   "metadata": {},
   "source": [
    "### IV. K-Means Clustering\n",
    "In this assignment we will be focusing on the K-Means Clustering.\n",
    "<br>-K-Means clustering is one the frequently used clustering algorithms. It is exclusive clustering method.\n",
    "<br>-One of the simplest and popular unsupervised machine learning algorithms.\n",
    "<br>-The number of clusters**(i.e. K)** is decided *priori.*\n",
    "<br>-The observations or the data points are assigned to the one of the clusters based on the similarities, which are based on **distance between the observations and the centroid of the clusters.**"
   ]
  },
  {
   "cell_type": "markdown",
   "metadata": {},
   "source": [
    "### V. K-Means Algorithm\n",
    "\n",
    "* K -> number of clusters.\n",
    " \n",
    "#### Steps :\n",
    "<br>1. Decide the value of K(which can be tuned later).\n",
    "<br>2. Choose K observations from the data that are likely to be in different clusters. There are many ways of choosing these initial K values; the easiest approach is to choose observations that are farthest(in one of the parameters of the data).\n",
    "<br>3. The K observations selected in *step 2* are the centroids of those clusters.\n",
    "<br>4. For remaining observations, find the cluster closest to the centroid. Add the new observation(say observation j) to the cluster with closest centroid. Adjust the centroid after adding a new observation to the cluster. The closest centroid is chosen based upon an appropriate distance measure.\n",
    "<br>5. Repeat *step 4* until all the observations are assigned to a cluster.\n",
    "\n",
    "#### NOTE :-\n",
    "The above algorithm is called as  **'Lloyd's algorithm'**. It is the most common K-Means method.\n",
    "<br>In python we have *KMeans()* function in *sklearn.cluster* library, which uses the same **'Lloyd's algorithm'** for implementation.\n",
    "#### *-We are using KMeans() function in our implementation.*"
   ]
  },
  {
   "cell_type": "markdown",
   "metadata": {},
   "source": [
    "### VI. Implementation of K-Means Clustering Algorithm using *'framingham heart study'* dataset with interpretations."
   ]
  },
  {
   "cell_type": "code",
   "execution_count": 72,
   "metadata": {},
   "outputs": [],
   "source": [
    "#Importing necessary libraries\n",
    "\n",
    "import os\n",
    "import pandas as pd\n",
    "import numpy as np\n",
    "import seaborn as sns\n",
    "import matplotlib.pyplot as plt\n",
    "from sklearn.model_selection import train_test_split\n",
    "from scipy.spatial.distance import cdist\n",
    "from sklearn.cluster import KMeans\n",
    "import pandas as pd\n",
    "from sklearn.metrics import silhouette_score\n",
    "from sklearn.datasets import make_blobs\n",
    "from sklearn.cluster import KMeans\n",
    "from sklearn.metrics import silhouette_samples, silhouette_score\n",
    "import matplotlib.pyplot as plt\n",
    "import matplotlib.cm as cm\n",
    "import numpy as np\n",
    "import seaborn as sns"
   ]
  },
  {
   "cell_type": "code",
   "execution_count": 73,
   "metadata": {},
   "outputs": [],
   "source": [
    "#Changing directory to the one containing the '.csv' file of the dataset\n",
    "os.chdir('C:\\\\Users\\\\pooja\\\\Desktop\\\\PYTHON')"
   ]
  },
  {
   "cell_type": "code",
   "execution_count": 75,
   "metadata": {},
   "outputs": [
    {
     "data": {
      "text/html": [
       "<div>\n",
       "<style scoped>\n",
       "    .dataframe tbody tr th:only-of-type {\n",
       "        vertical-align: middle;\n",
       "    }\n",
       "\n",
       "    .dataframe tbody tr th {\n",
       "        vertical-align: top;\n",
       "    }\n",
       "\n",
       "    .dataframe thead th {\n",
       "        text-align: right;\n",
       "    }\n",
       "</style>\n",
       "<table border=\"1\" class=\"dataframe\">\n",
       "  <thead>\n",
       "    <tr style=\"text-align: right;\">\n",
       "      <th></th>\n",
       "      <th>male</th>\n",
       "      <th>age</th>\n",
       "      <th>education</th>\n",
       "      <th>currentSmoker</th>\n",
       "      <th>cigsPerDay</th>\n",
       "      <th>BPMeds</th>\n",
       "      <th>prevalentStroke</th>\n",
       "      <th>prevalentHyp</th>\n",
       "      <th>diabetes</th>\n",
       "      <th>totChol</th>\n",
       "      <th>sysBP</th>\n",
       "      <th>diaBP</th>\n",
       "      <th>BMI</th>\n",
       "      <th>heartRate</th>\n",
       "      <th>glucose</th>\n",
       "      <th>TenYearCHD</th>\n",
       "    </tr>\n",
       "  </thead>\n",
       "  <tbody>\n",
       "    <tr>\n",
       "      <th>0</th>\n",
       "      <td>1</td>\n",
       "      <td>39</td>\n",
       "      <td>4.0</td>\n",
       "      <td>0</td>\n",
       "      <td>0.0</td>\n",
       "      <td>0.0</td>\n",
       "      <td>0</td>\n",
       "      <td>0</td>\n",
       "      <td>0</td>\n",
       "      <td>195.0</td>\n",
       "      <td>106.0</td>\n",
       "      <td>70.0</td>\n",
       "      <td>26.97</td>\n",
       "      <td>80.0</td>\n",
       "      <td>77.0</td>\n",
       "      <td>0</td>\n",
       "    </tr>\n",
       "    <tr>\n",
       "      <th>1</th>\n",
       "      <td>0</td>\n",
       "      <td>46</td>\n",
       "      <td>2.0</td>\n",
       "      <td>0</td>\n",
       "      <td>0.0</td>\n",
       "      <td>0.0</td>\n",
       "      <td>0</td>\n",
       "      <td>0</td>\n",
       "      <td>0</td>\n",
       "      <td>250.0</td>\n",
       "      <td>121.0</td>\n",
       "      <td>81.0</td>\n",
       "      <td>28.73</td>\n",
       "      <td>95.0</td>\n",
       "      <td>76.0</td>\n",
       "      <td>0</td>\n",
       "    </tr>\n",
       "    <tr>\n",
       "      <th>2</th>\n",
       "      <td>1</td>\n",
       "      <td>48</td>\n",
       "      <td>1.0</td>\n",
       "      <td>1</td>\n",
       "      <td>20.0</td>\n",
       "      <td>0.0</td>\n",
       "      <td>0</td>\n",
       "      <td>0</td>\n",
       "      <td>0</td>\n",
       "      <td>245.0</td>\n",
       "      <td>127.5</td>\n",
       "      <td>80.0</td>\n",
       "      <td>25.34</td>\n",
       "      <td>75.0</td>\n",
       "      <td>70.0</td>\n",
       "      <td>0</td>\n",
       "    </tr>\n",
       "    <tr>\n",
       "      <th>3</th>\n",
       "      <td>0</td>\n",
       "      <td>61</td>\n",
       "      <td>3.0</td>\n",
       "      <td>1</td>\n",
       "      <td>30.0</td>\n",
       "      <td>0.0</td>\n",
       "      <td>0</td>\n",
       "      <td>1</td>\n",
       "      <td>0</td>\n",
       "      <td>225.0</td>\n",
       "      <td>150.0</td>\n",
       "      <td>95.0</td>\n",
       "      <td>28.58</td>\n",
       "      <td>65.0</td>\n",
       "      <td>103.0</td>\n",
       "      <td>1</td>\n",
       "    </tr>\n",
       "    <tr>\n",
       "      <th>4</th>\n",
       "      <td>0</td>\n",
       "      <td>46</td>\n",
       "      <td>3.0</td>\n",
       "      <td>1</td>\n",
       "      <td>23.0</td>\n",
       "      <td>0.0</td>\n",
       "      <td>0</td>\n",
       "      <td>0</td>\n",
       "      <td>0</td>\n",
       "      <td>285.0</td>\n",
       "      <td>130.0</td>\n",
       "      <td>84.0</td>\n",
       "      <td>23.10</td>\n",
       "      <td>85.0</td>\n",
       "      <td>85.0</td>\n",
       "      <td>0</td>\n",
       "    </tr>\n",
       "  </tbody>\n",
       "</table>\n",
       "</div>"
      ],
      "text/plain": [
       "   male  age  education  currentSmoker  cigsPerDay  BPMeds  prevalentStroke  \\\n",
       "0     1   39        4.0              0         0.0     0.0                0   \n",
       "1     0   46        2.0              0         0.0     0.0                0   \n",
       "2     1   48        1.0              1        20.0     0.0                0   \n",
       "3     0   61        3.0              1        30.0     0.0                0   \n",
       "4     0   46        3.0              1        23.0     0.0                0   \n",
       "\n",
       "   prevalentHyp  diabetes  totChol  sysBP  diaBP    BMI  heartRate  glucose  \\\n",
       "0             0         0    195.0  106.0   70.0  26.97       80.0     77.0   \n",
       "1             0         0    250.0  121.0   81.0  28.73       95.0     76.0   \n",
       "2             0         0    245.0  127.5   80.0  25.34       75.0     70.0   \n",
       "3             1         0    225.0  150.0   95.0  28.58       65.0    103.0   \n",
       "4             0         0    285.0  130.0   84.0  23.10       85.0     85.0   \n",
       "\n",
       "   TenYearCHD  \n",
       "0           0  \n",
       "1           0  \n",
       "2           0  \n",
       "3           1  \n",
       "4           0  "
      ]
     },
     "execution_count": 75,
     "metadata": {},
     "output_type": "execute_result"
    }
   ],
   "source": [
    "#Reading the dataset and print the head of the dataset\n",
    "data = pd.read_csv('framingham.csv')\n",
    "data.head()"
   ]
  },
  {
   "cell_type": "code",
   "execution_count": 76,
   "metadata": {},
   "outputs": [],
   "source": [
    "#selection of continuous numerical variables, to keep the dataset upto the actual requirements for execution of Algorithm\n",
    "numerical_data = data[['totChol','diaBP','BMI']]"
   ]
  },
  {
   "cell_type": "code",
   "execution_count": 77,
   "metadata": {},
   "outputs": [
    {
     "data": {
      "text/plain": [
       "totChol    50\n",
       "diaBP       0\n",
       "BMI        19\n",
       "dtype: int64"
      ]
     },
     "execution_count": 77,
     "metadata": {},
     "output_type": "execute_result"
    }
   ],
   "source": [
    "#Checking the 'NULL' and missing values\n",
    "numerical_data.isnull().sum()"
   ]
  },
  {
   "cell_type": "code",
   "execution_count": 79,
   "metadata": {},
   "outputs": [
    {
     "data": {
      "text/html": [
       "<div>\n",
       "<style scoped>\n",
       "    .dataframe tbody tr th:only-of-type {\n",
       "        vertical-align: middle;\n",
       "    }\n",
       "\n",
       "    .dataframe tbody tr th {\n",
       "        vertical-align: top;\n",
       "    }\n",
       "\n",
       "    .dataframe thead th {\n",
       "        text-align: right;\n",
       "    }\n",
       "</style>\n",
       "<table border=\"1\" class=\"dataframe\">\n",
       "  <thead>\n",
       "    <tr style=\"text-align: right;\">\n",
       "      <th></th>\n",
       "      <th>totChol</th>\n",
       "      <th>diaBP</th>\n",
       "      <th>BMI</th>\n",
       "    </tr>\n",
       "  </thead>\n",
       "  <tbody>\n",
       "    <tr>\n",
       "      <th>0</th>\n",
       "      <td>195.0</td>\n",
       "      <td>70.0</td>\n",
       "      <td>26.97</td>\n",
       "    </tr>\n",
       "    <tr>\n",
       "      <th>1</th>\n",
       "      <td>250.0</td>\n",
       "      <td>81.0</td>\n",
       "      <td>28.73</td>\n",
       "    </tr>\n",
       "    <tr>\n",
       "      <th>2</th>\n",
       "      <td>245.0</td>\n",
       "      <td>80.0</td>\n",
       "      <td>25.34</td>\n",
       "    </tr>\n",
       "    <tr>\n",
       "      <th>3</th>\n",
       "      <td>225.0</td>\n",
       "      <td>95.0</td>\n",
       "      <td>28.58</td>\n",
       "    </tr>\n",
       "    <tr>\n",
       "      <th>4</th>\n",
       "      <td>285.0</td>\n",
       "      <td>84.0</td>\n",
       "      <td>23.10</td>\n",
       "    </tr>\n",
       "  </tbody>\n",
       "</table>\n",
       "</div>"
      ],
      "text/plain": [
       "   totChol  diaBP    BMI\n",
       "0    195.0   70.0  26.97\n",
       "1    250.0   81.0  28.73\n",
       "2    245.0   80.0  25.34\n",
       "3    225.0   95.0  28.58\n",
       "4    285.0   84.0  23.10"
      ]
     },
     "execution_count": 79,
     "metadata": {},
     "output_type": "execute_result"
    }
   ],
   "source": [
    "#Imputing the missing values with mean of the variable.\n",
    "numerical_data['totChol'].fillna(np.mean(numerical_data['totChol']), inplace = True)\n",
    "numerical_data['BMI'].fillna(np.mean(numerical_data['BMI']), inplace = True)\n",
    "\n",
    "#printing the head of the data after mean imputation\n",
    "numerical_data.head()"
   ]
  },
  {
   "cell_type": "code",
   "execution_count": 83,
   "metadata": {},
   "outputs": [
    {
     "data": {
      "text/plain": [
       "totChol    0\n",
       "diaBP      0\n",
       "BMI        0\n",
       "dtype: int64"
      ]
     },
     "execution_count": 83,
     "metadata": {},
     "output_type": "execute_result"
    }
   ],
   "source": [
    "#Cross-checking the success of mean imputation\n",
    "numerical_data.isnull().sum()"
   ]
  },
  {
   "cell_type": "code",
   "execution_count": 84,
   "metadata": {},
   "outputs": [
    {
     "data": {
      "text/html": [
       "<div>\n",
       "<style scoped>\n",
       "    .dataframe tbody tr th:only-of-type {\n",
       "        vertical-align: middle;\n",
       "    }\n",
       "\n",
       "    .dataframe tbody tr th {\n",
       "        vertical-align: top;\n",
       "    }\n",
       "\n",
       "    .dataframe thead th {\n",
       "        text-align: right;\n",
       "    }\n",
       "</style>\n",
       "<table border=\"1\" class=\"dataframe\">\n",
       "  <thead>\n",
       "    <tr style=\"text-align: right;\">\n",
       "      <th></th>\n",
       "      <th>totChol</th>\n",
       "      <th>diaBP</th>\n",
       "      <th>BMI</th>\n",
       "    </tr>\n",
       "  </thead>\n",
       "  <tbody>\n",
       "    <tr>\n",
       "      <th>count</th>\n",
       "      <td>4240.000000</td>\n",
       "      <td>4240.000000</td>\n",
       "      <td>4240.000000</td>\n",
       "    </tr>\n",
       "    <tr>\n",
       "      <th>mean</th>\n",
       "      <td>236.699523</td>\n",
       "      <td>82.897759</td>\n",
       "      <td>25.800801</td>\n",
       "    </tr>\n",
       "    <tr>\n",
       "      <th>std</th>\n",
       "      <td>44.327521</td>\n",
       "      <td>11.910394</td>\n",
       "      <td>4.070687</td>\n",
       "    </tr>\n",
       "    <tr>\n",
       "      <th>min</th>\n",
       "      <td>107.000000</td>\n",
       "      <td>48.000000</td>\n",
       "      <td>15.540000</td>\n",
       "    </tr>\n",
       "    <tr>\n",
       "      <th>25%</th>\n",
       "      <td>206.000000</td>\n",
       "      <td>75.000000</td>\n",
       "      <td>23.077500</td>\n",
       "    </tr>\n",
       "    <tr>\n",
       "      <th>50%</th>\n",
       "      <td>234.000000</td>\n",
       "      <td>82.000000</td>\n",
       "      <td>25.410000</td>\n",
       "    </tr>\n",
       "    <tr>\n",
       "      <th>75%</th>\n",
       "      <td>262.000000</td>\n",
       "      <td>90.000000</td>\n",
       "      <td>28.032500</td>\n",
       "    </tr>\n",
       "    <tr>\n",
       "      <th>max</th>\n",
       "      <td>696.000000</td>\n",
       "      <td>142.500000</td>\n",
       "      <td>56.800000</td>\n",
       "    </tr>\n",
       "  </tbody>\n",
       "</table>\n",
       "</div>"
      ],
      "text/plain": [
       "           totChol        diaBP          BMI\n",
       "count  4240.000000  4240.000000  4240.000000\n",
       "mean    236.699523    82.897759    25.800801\n",
       "std      44.327521    11.910394     4.070687\n",
       "min     107.000000    48.000000    15.540000\n",
       "25%     206.000000    75.000000    23.077500\n",
       "50%     234.000000    82.000000    25.410000\n",
       "75%     262.000000    90.000000    28.032500\n",
       "max     696.000000   142.500000    56.800000"
      ]
     },
     "execution_count": 84,
     "metadata": {},
     "output_type": "execute_result"
    }
   ],
   "source": [
    "#Statistical description of the 3 variables.\n",
    "numerical_data.describe()"
   ]
  },
  {
   "cell_type": "markdown",
   "metadata": {},
   "source": [
    "#### Standardization : \n",
    "<br>- From the above table as we can see that the scale and range of all the three variables are different. \n",
    "<br>- This could be a bit problematic as the clusters mights get segmented based on the variable having larger scale. And the other variables can appear numerically insignificant as compared to the variable having larger scale.\n",
    "<br>- Hence before creating clusters, all the features need to be standardized and brought on the standardized scale.\n",
    "<br>- Standardization rescales data to have a mean(μ) of 0 and standard deviation(σ) of 1 (unit variance).\n",
    "<br>- **Note : For most applications standardization is recommended.**\n"
   ]
  },
  {
   "cell_type": "code",
   "execution_count": 81,
   "metadata": {},
   "outputs": [],
   "source": [
    "#Standardization formula\n",
    "data_standard_scaled = numerical_data.apply(lambda numerical_data: (numerical_data - np.mean(numerical_data))/np.std(numerical_data))\n"
   ]
  },
  {
   "cell_type": "code",
   "execution_count": 85,
   "metadata": {},
   "outputs": [
    {
     "data": {
      "text/html": [
       "<div>\n",
       "<style scoped>\n",
       "    .dataframe tbody tr th:only-of-type {\n",
       "        vertical-align: middle;\n",
       "    }\n",
       "\n",
       "    .dataframe tbody tr th {\n",
       "        vertical-align: top;\n",
       "    }\n",
       "\n",
       "    .dataframe thead th {\n",
       "        text-align: right;\n",
       "    }\n",
       "</style>\n",
       "<table border=\"1\" class=\"dataframe\">\n",
       "  <thead>\n",
       "    <tr style=\"text-align: right;\">\n",
       "      <th></th>\n",
       "      <th>totChol</th>\n",
       "      <th>diaBP</th>\n",
       "      <th>BMI</th>\n",
       "    </tr>\n",
       "  </thead>\n",
       "  <tbody>\n",
       "    <tr>\n",
       "      <th>516</th>\n",
       "      <td>-0.760329</td>\n",
       "      <td>-0.411266</td>\n",
       "      <td>0.702470</td>\n",
       "    </tr>\n",
       "    <tr>\n",
       "      <th>2480</th>\n",
       "      <td>-0.151155</td>\n",
       "      <td>-1.418908</td>\n",
       "      <td>-0.120584</td>\n",
       "    </tr>\n",
       "    <tr>\n",
       "      <th>1651</th>\n",
       "      <td>0.209837</td>\n",
       "      <td>-0.747146</td>\n",
       "      <td>-0.174635</td>\n",
       "    </tr>\n",
       "  </tbody>\n",
       "</table>\n",
       "</div>"
      ],
      "text/plain": [
       "       totChol     diaBP       BMI\n",
       "516  -0.760329 -0.411266  0.702470\n",
       "2480 -0.151155 -1.418908 -0.120584\n",
       "1651  0.209837 -0.747146 -0.174635"
      ]
     },
     "execution_count": 85,
     "metadata": {},
     "output_type": "execute_result"
    }
   ],
   "source": [
    "#Standardized dataset\n",
    "data_standard_scaled.sample(3)"
   ]
  },
  {
   "cell_type": "code",
   "execution_count": 86,
   "metadata": {
    "scrolled": false
   },
   "outputs": [
    {
     "data": {
      "text/html": [
       "<div>\n",
       "<style scoped>\n",
       "    .dataframe tbody tr th:only-of-type {\n",
       "        vertical-align: middle;\n",
       "    }\n",
       "\n",
       "    .dataframe tbody tr th {\n",
       "        vertical-align: top;\n",
       "    }\n",
       "\n",
       "    .dataframe thead th {\n",
       "        text-align: right;\n",
       "    }\n",
       "</style>\n",
       "<table border=\"1\" class=\"dataframe\">\n",
       "  <thead>\n",
       "    <tr style=\"text-align: right;\">\n",
       "      <th></th>\n",
       "      <th>totChol</th>\n",
       "      <th>diaBP</th>\n",
       "      <th>BMI</th>\n",
       "    </tr>\n",
       "  </thead>\n",
       "  <tbody>\n",
       "    <tr>\n",
       "      <th>count</th>\n",
       "      <td>4.240000e+03</td>\n",
       "      <td>4.240000e+03</td>\n",
       "      <td>4.240000e+03</td>\n",
       "    </tr>\n",
       "    <tr>\n",
       "      <th>mean</th>\n",
       "      <td>-1.266702e-15</td>\n",
       "      <td>1.984786e-17</td>\n",
       "      <td>2.231391e-15</td>\n",
       "    </tr>\n",
       "    <tr>\n",
       "      <th>std</th>\n",
       "      <td>1.000118e+00</td>\n",
       "      <td>1.000118e+00</td>\n",
       "      <td>1.000118e+00</td>\n",
       "    </tr>\n",
       "    <tr>\n",
       "      <th>min</th>\n",
       "      <td>-2.926282e+00</td>\n",
       "      <td>-2.930371e+00</td>\n",
       "      <td>-2.520953e+00</td>\n",
       "    </tr>\n",
       "    <tr>\n",
       "      <th>25%</th>\n",
       "      <td>-6.926429e-01</td>\n",
       "      <td>-6.631763e-01</td>\n",
       "      <td>-6.690817e-01</td>\n",
       "    </tr>\n",
       "    <tr>\n",
       "      <th>50%</th>\n",
       "      <td>-6.090666e-02</td>\n",
       "      <td>-7.538502e-02</td>\n",
       "      <td>-9.601497e-02</td>\n",
       "    </tr>\n",
       "    <tr>\n",
       "      <th>75%</th>\n",
       "      <td>5.708296e-01</td>\n",
       "      <td>5.963764e-01</td>\n",
       "      <td>5.483012e-01</td>\n",
       "    </tr>\n",
       "    <tr>\n",
       "      <th>max</th>\n",
       "      <td>1.036274e+01</td>\n",
       "      <td>5.004811e+00</td>\n",
       "      <td>7.616124e+00</td>\n",
       "    </tr>\n",
       "  </tbody>\n",
       "</table>\n",
       "</div>"
      ],
      "text/plain": [
       "            totChol         diaBP           BMI\n",
       "count  4.240000e+03  4.240000e+03  4.240000e+03\n",
       "mean  -1.266702e-15  1.984786e-17  2.231391e-15\n",
       "std    1.000118e+00  1.000118e+00  1.000118e+00\n",
       "min   -2.926282e+00 -2.930371e+00 -2.520953e+00\n",
       "25%   -6.926429e-01 -6.631763e-01 -6.690817e-01\n",
       "50%   -6.090666e-02 -7.538502e-02 -9.601497e-02\n",
       "75%    5.708296e-01  5.963764e-01  5.483012e-01\n",
       "max    1.036274e+01  5.004811e+00  7.616124e+00"
      ]
     },
     "execution_count": 86,
     "metadata": {},
     "output_type": "execute_result"
    }
   ],
   "source": [
    "#Statistical description of the 3 variables after standardization.\n",
    "data_standard_scaled.describe()"
   ]
  },
  {
   "cell_type": "code",
   "execution_count": 88,
   "metadata": {},
   "outputs": [
    {
     "data": {
      "text/plain": [
       "KMeans(algorithm='auto', copy_x=True, init='k-means++', max_iter=300,\n",
       "    n_clusters=3, n_init=10, n_jobs=None, precompute_distances='auto',\n",
       "    random_state=50, tol=0.0001, verbose=0)"
      ]
     },
     "execution_count": 88,
     "metadata": {},
     "output_type": "execute_result"
    }
   ],
   "source": [
    "#Initialize 'KMeans' with the number of clusters(k) as the parameter\n",
    "#'init : k-means++’ -> selects initial cluster centers for k-mean clustering in a smart way to speed up convergence.\n",
    "#random_state -> Determines random number generation for centroid initialization. Use an int to make the randomness deterministic.\n",
    "\n",
    "kmeans_3 = KMeans(n_clusters=3, init = 'k-means++', random_state = 50)\n",
    "\n",
    "#Calling fit() with the DataFrame, it contains the entities and features that need to be clustered.\n",
    "kmeans_3.fit(data_standard_scaled)\n"
   ]
  },
  {
   "cell_type": "code",
   "execution_count": 97,
   "metadata": {},
   "outputs": [
    {
     "data": {
      "text/plain": [
       "KMeans(algorithm='auto', copy_x=True, init='k-means++', max_iter=300,\n",
       "    n_clusters=3, n_init=10, n_jobs=None, precompute_distances='auto',\n",
       "    random_state=50, tol=0.0001, verbose=0)"
      ]
     },
     "execution_count": 97,
     "metadata": {},
     "output_type": "execute_result"
    }
   ],
   "source": [
    "#'p -> to store the labels of the observations, representing the respective cluster number.\n",
    "\n",
    "p=pd.DataFrame(kmeans_3.labels_)"
   ]
  },
  {
   "cell_type": "code",
   "execution_count": 109,
   "metadata": {},
   "outputs": [
    {
     "data": {
      "text/plain": [
       "0    int32\n",
       "dtype: object"
      ]
     },
     "execution_count": 109,
     "metadata": {},
     "output_type": "execute_result"
    }
   ],
   "source": [
    "#int32 : as it only contains the cluster numbers.\n",
    "p.dtypes"
   ]
  },
  {
   "cell_type": "code",
   "execution_count": 110,
   "metadata": {},
   "outputs": [
    {
     "data": {
      "text/html": [
       "<div>\n",
       "<style scoped>\n",
       "    .dataframe tbody tr th:only-of-type {\n",
       "        vertical-align: middle;\n",
       "    }\n",
       "\n",
       "    .dataframe tbody tr th {\n",
       "        vertical-align: top;\n",
       "    }\n",
       "\n",
       "    .dataframe thead th {\n",
       "        text-align: right;\n",
       "    }\n",
       "</style>\n",
       "<table border=\"1\" class=\"dataframe\">\n",
       "  <thead>\n",
       "    <tr style=\"text-align: right;\">\n",
       "      <th></th>\n",
       "      <th>0</th>\n",
       "    </tr>\n",
       "  </thead>\n",
       "  <tbody>\n",
       "    <tr>\n",
       "      <th>0</th>\n",
       "      <td>1</td>\n",
       "    </tr>\n",
       "    <tr>\n",
       "      <th>1</th>\n",
       "      <td>2</td>\n",
       "    </tr>\n",
       "    <tr>\n",
       "      <th>2</th>\n",
       "      <td>0</td>\n",
       "    </tr>\n",
       "    <tr>\n",
       "      <th>3</th>\n",
       "      <td>2</td>\n",
       "    </tr>\n",
       "    <tr>\n",
       "      <th>4</th>\n",
       "      <td>0</td>\n",
       "    </tr>\n",
       "  </tbody>\n",
       "</table>\n",
       "</div>"
      ],
      "text/plain": [
       "   0\n",
       "0  1\n",
       "1  2\n",
       "2  0\n",
       "3  2\n",
       "4  0"
      ]
     },
     "execution_count": 110,
     "metadata": {},
     "output_type": "execute_result"
    }
   ],
   "source": [
    "p.head()"
   ]
  },
  {
   "cell_type": "code",
   "execution_count": 112,
   "metadata": {},
   "outputs": [
    {
     "data": {
      "text/plain": [
       "array([[ 1.0964751 ,  0.01886123, -0.1673024 ],\n",
       "       [-0.62549761, -0.59030483, -0.53411186],\n",
       "       [-0.05559528,  0.91847254,  1.00724508]])"
      ]
     },
     "execution_count": 112,
     "metadata": {},
     "output_type": "execute_result"
    }
   ],
   "source": [
    "#Cluster Centroids\n",
    "kmeans_3.cluster_centers_"
   ]
  },
  {
   "cell_type": "markdown",
   "metadata": {},
   "source": [
    "#### Finding optimal Number of Clusters using Elbow Curve Method\n",
    "<br>- Deciding on the correct number of clusters**(i.e. K)** is very important.\n",
    "<br>- As we increase the number of clusters, the total variance of all the clusters will starts reducing.\n",
    "<br>- Variance will be equal to '0' if number clusters is equal to the number of observations.\n",
    "<br>- So elbow curve method is used to solve this problem.\n",
    "<br>- It considers the percentage of variance(y-axis) explained as a function of the number of clusters(y-axis).\n",
    "<br>- The optimal number of clusters is chosen in such a way that adding another cluster does not change the variance significantly."
   ]
  },
  {
   "cell_type": "code",
   "execution_count": 118,
   "metadata": {},
   "outputs": [
    {
     "data": {
      "image/png": "[encoded data removed]",
      "text/plain": [
       "<Figure size 432x288 with 1 Axes>"
      ]
     },
     "metadata": {
      "needs_background": "light"
     },
     "output_type": "display_data"
    }
   ],
   "source": [
    "#Number of clusters(Elbow method)\n",
    "a = []\n",
    "\n",
    "for i in range(1,20): #creates clusters ranging from 1 to 19\n",
    "    kmeans = KMeans(n_clusters=i, init = 'k-means++', random_state = 100).fit(data_standard_scaled)\n",
    "    a.append(sum(np.min(cdist(data_standard_scaled, kmeans.cluster_centers_, 'euclidean'), axis = 1))/data_standard_scaled.shape[0])\n",
    "\n",
    "plt.xlabel('Number of clusters')\n",
    "plt.ylabel('Reduction in  Variance')\n",
    "plt.plot(K, a,'bx')\n",
    "plt.show()"
   ]
  },
  {
   "cell_type": "markdown",
   "metadata": {},
   "source": [
    "Thus from above graph we can find that the optimal number of clusters**(i.e. K)** to be considered is **3** as after which there is no significant reduction in the variance.\n",
    "<br>Therefore, *K=3*."
   ]
  },
  {
   "cell_type": "markdown",
   "metadata": {},
   "source": [
    "#### Silhouette Score\n",
    "The silhouette value is a measure of how similar an object is to its own cluster (cohesion) compared to other clusters (separation). The silhouette ranges from −1 to +1, where a high value indicates that the object is well matched to its own cluster and poorly matched to neighboring clusters. If most objects have a high value, then the clustering configuration is appropriate. If many points have a low or negative value, then the clustering configuration may have too many or too few clusters.\n",
    "\n",
    "The silhouette can be calculated with any distance metric, such as the Euclidean distance or the Manhattan distance."
   ]
  },
  {
   "cell_type": "code",
   "execution_count": 120,
   "metadata": {},
   "outputs": [
    {
     "name": "stdout",
     "output_type": "stream",
     "text": [
      "\"K\" Score for k = 2 is 0.2840034532604224\n",
      "\"K\" Score for k = 3 is 0.2617925007911481\n",
      "\"K\" Score for k = 4 is 0.23791366792706836\n",
      "\"K\" Score for k = 5 is 0.2400680220587621\n",
      "\"K\" Score for k = 6 is 0.23049102717051378\n",
      "\"K\" Score for k = 7 is 0.23293135233379997\n",
      "\"K\" Score for k = 8 is 0.22699057670092668\n",
      "\"K\" Score for k = 9 is 0.21918253823339573\n",
      "\"K\" Score for k = 10 is 0.2221040165846736\n",
      "\"K\" Score for k = 11 is 0.22251648088474382\n",
      "\"K\" Score for k = 12 is 0.2213167465558738\n",
      "\"K\" Score for k = 13 is 0.22216971494292953\n",
      "\"K\" Score for k = 14 is 0.22159321696133158\n"
     ]
    }
   ],
   "source": [
    "#Calculating Silhouette score using Euclidian distance.\n",
    "for i in range(2,15):\n",
    "    kmeans = KMeans(n_clusters=i, init = 'k-means++', random_state = 100).fit(data_standard_scaled).labels_\n",
    "    score = silhouette_score(data_standard_scaled, kmeans, metric='euclidean', random_state=100, sample_size=10000)\n",
    "    print('\"K\" Score for k = '+str(i)+' is '+ str(score))"
   ]
  },
  {
   "cell_type": "code",
   "execution_count": 121,
   "metadata": {},
   "outputs": [
    {
     "data": {
      "text/plain": [
       "KMeans(algorithm='auto', copy_x=True, init='k-means++', max_iter=300,\n",
       "    n_clusters=3, n_init=10, n_jobs=None, precompute_distances='auto',\n",
       "    random_state=100, tol=0.0001, verbose=0)"
      ]
     },
     "execution_count": 121,
     "metadata": {},
     "output_type": "execute_result"
    }
   ],
   "source": [
    "kmeans_3 = KMeans(n_clusters=3, init = 'k-means++', random_state=100)\n",
    "kmeans_3.fit(data_standard_scaled)"
   ]
  },
  {
   "cell_type": "code",
   "execution_count": 124,
   "metadata": {},
   "outputs": [
    {
     "data": {
      "text/plain": [
       "(4240,)"
      ]
     },
     "execution_count": 124,
     "metadata": {},
     "output_type": "execute_result"
    }
   ],
   "source": [
    "#Checking the count of number to labels, as it should be equal to the total number of oobservation in dataset.\n",
    "kmeans_3.labels_\n",
    "kmeans_3.labels_.shape"
   ]
  },
  {
   "cell_type": "code",
   "execution_count": 125,
   "metadata": {},
   "outputs": [
    {
     "name": "stdout",
     "output_type": "stream",
     "text": [
      "{0: 1210, 1: 1854, 2: 1176}\n"
     ]
    }
   ],
   "source": [
    "#Counting the number of observations per cluster\n",
    "unique, counts = np.unique(kmeans_3.labels_,return_counts=True)\n",
    "print(dict(zip(unique,counts)))"
   ]
  },
  {
   "cell_type": "code",
   "execution_count": 130,
   "metadata": {},
   "outputs": [
    {
     "data": {
      "text/html": [
       "<div>\n",
       "<style scoped>\n",
       "    .dataframe tbody tr th:only-of-type {\n",
       "        vertical-align: middle;\n",
       "    }\n",
       "\n",
       "    .dataframe tbody tr th {\n",
       "        vertical-align: top;\n",
       "    }\n",
       "\n",
       "    .dataframe thead th {\n",
       "        text-align: right;\n",
       "    }\n",
       "</style>\n",
       "<table border=\"1\" class=\"dataframe\">\n",
       "  <thead>\n",
       "    <tr style=\"text-align: right;\">\n",
       "      <th></th>\n",
       "      <th>totChol</th>\n",
       "      <th>diaBP</th>\n",
       "      <th>BMI</th>\n",
       "      <th>labels</th>\n",
       "    </tr>\n",
       "  </thead>\n",
       "  <tbody>\n",
       "    <tr>\n",
       "      <th>0</th>\n",
       "      <td>195.0</td>\n",
       "      <td>70.0</td>\n",
       "      <td>26.97</td>\n",
       "      <td>1</td>\n",
       "    </tr>\n",
       "    <tr>\n",
       "      <th>1</th>\n",
       "      <td>250.0</td>\n",
       "      <td>81.0</td>\n",
       "      <td>28.73</td>\n",
       "      <td>0</td>\n",
       "    </tr>\n",
       "    <tr>\n",
       "      <th>2</th>\n",
       "      <td>245.0</td>\n",
       "      <td>80.0</td>\n",
       "      <td>25.34</td>\n",
       "      <td>2</td>\n",
       "    </tr>\n",
       "    <tr>\n",
       "      <th>3</th>\n",
       "      <td>225.0</td>\n",
       "      <td>95.0</td>\n",
       "      <td>28.58</td>\n",
       "      <td>0</td>\n",
       "    </tr>\n",
       "    <tr>\n",
       "      <th>4</th>\n",
       "      <td>285.0</td>\n",
       "      <td>84.0</td>\n",
       "      <td>23.10</td>\n",
       "      <td>2</td>\n",
       "    </tr>\n",
       "  </tbody>\n",
       "</table>\n",
       "</div>"
      ],
      "text/plain": [
       "   totChol  diaBP    BMI  labels\n",
       "0    195.0   70.0  26.97       1\n",
       "1    250.0   81.0  28.73       0\n",
       "2    245.0   80.0  25.34       2\n",
       "3    225.0   95.0  28.58       0\n",
       "4    285.0   84.0  23.10       2"
      ]
     },
     "execution_count": 130,
     "metadata": {},
     "output_type": "execute_result"
    }
   ],
   "source": [
    "# Data labelled with cluster numbers\n",
    "numerical_data_new  = numerical_data.copy()\n",
    "numerical_data_new['labels'] = kmeans_3.labels_\n",
    "numerical_data_new.head()"
   ]
  },
  {
   "cell_type": "code",
   "execution_count": 138,
   "metadata": {},
   "outputs": [
    {
     "data": {
      "text/html": [
       "<div>\n",
       "<style scoped>\n",
       "    .dataframe tbody tr th:only-of-type {\n",
       "        vertical-align: middle;\n",
       "    }\n",
       "\n",
       "    .dataframe tbody tr th {\n",
       "        vertical-align: top;\n",
       "    }\n",
       "\n",
       "    .dataframe thead tr th {\n",
       "        text-align: left;\n",
       "    }\n",
       "</style>\n",
       "<table border=\"1\" class=\"dataframe\">\n",
       "  <thead>\n",
       "    <tr>\n",
       "      <th></th>\n",
       "      <th>labels</th>\n",
       "      <th colspan=\"2\" halign=\"left\">totChol</th>\n",
       "      <th colspan=\"2\" halign=\"left\">diaBP</th>\n",
       "      <th colspan=\"2\" halign=\"left\">BMI</th>\n",
       "    </tr>\n",
       "    <tr>\n",
       "      <th></th>\n",
       "      <th></th>\n",
       "      <th>mean</th>\n",
       "      <th>std</th>\n",
       "      <th>mean</th>\n",
       "      <th>std</th>\n",
       "      <th>mean</th>\n",
       "      <th>std</th>\n",
       "    </tr>\n",
       "  </thead>\n",
       "  <tbody>\n",
       "    <tr>\n",
       "      <th>0</th>\n",
       "      <td>0</td>\n",
       "      <td>235.029329</td>\n",
       "      <td>33.816663</td>\n",
       "      <td>93.996281</td>\n",
       "      <td>11.216338</td>\n",
       "      <td>29.848540</td>\n",
       "      <td>3.976721</td>\n",
       "    </tr>\n",
       "    <tr>\n",
       "      <th>1</th>\n",
       "      <td>1</td>\n",
       "      <td>207.803931</td>\n",
       "      <td>26.445265</td>\n",
       "      <td>75.896440</td>\n",
       "      <td>8.165933</td>\n",
       "      <td>23.634298</td>\n",
       "      <td>2.724957</td>\n",
       "    </tr>\n",
       "    <tr>\n",
       "      <th>2</th>\n",
       "      <td>2</td>\n",
       "      <td>283.972789</td>\n",
       "      <td>35.387233</td>\n",
       "      <td>82.516156</td>\n",
       "      <td>8.534072</td>\n",
       "      <td>25.051593</td>\n",
       "      <td>2.637922</td>\n",
       "    </tr>\n",
       "  </tbody>\n",
       "</table>\n",
       "</div>"
      ],
      "text/plain": [
       "  labels     totChol                 diaBP                   BMI          \n",
       "                mean        std       mean        std       mean       std\n",
       "0      0  235.029329  33.816663  93.996281  11.216338  29.848540  3.976721\n",
       "1      1  207.803931  26.445265  75.896440   8.165933  23.634298  2.724957\n",
       "2      2  283.972789  35.387233  82.516156   8.534072  25.051593  2.637922"
      ]
     },
     "execution_count": 138,
     "metadata": {},
     "output_type": "execute_result"
    }
   ],
   "source": [
    "#Cluster Variances\n",
    "numerical_data_new.groupby('labels')['totChol','diaBP','BMI'].agg(['mean','std']).reset_index()"
   ]
  },
  {
   "cell_type": "markdown",
   "metadata": {},
   "source": [
    "#### Interpretation\n",
    "* Cluster 0 of Patients : Patients on an an average having *total cholesterol* **235mg/dL** of blood, *diastolic blood pressure* **94mmHg**, *Body Mass Index(BMI)* **30kg/sq.m**\n",
    "* Cluster 1 of Patients : Patients on an an average having *total cholesterol* **207mg/dL** of blood, *diastolic blood pressure* **76mmHg**, *Body Mass Index(BMI)* **24kg/sq.m**\n",
    "* Cluster 2 of Patients : Patients on an an average having *total cholesterol* **284mg/dL** of blood, *diastolic blood pressure* **82mmHg**, *Body Mass Index(BMI)* **25kg/sq.m**"
   ]
  },
  {
   "cell_type": "code",
   "execution_count": 152,
   "metadata": {},
   "outputs": [
    {
     "name": "stderr",
     "output_type": "stream",
     "text": [
      "C:\\Users\\pooja\\Anaconda3\\lib\\site-packages\\seaborn\\regression.py:546: UserWarning: The `size` paramter has been renamed to `height`; please update your code.\n",
      "  warnings.warn(msg, UserWarning)\n"
     ]
    },
    {
     "data": {
      "text/plain": [
       "<seaborn.axisgrid.FacetGrid at 0x274e3aadda0>"
      ]
     },
     "execution_count": 152,
     "metadata": {},
     "output_type": "execute_result"
    },
    {
     "data": {
      "image/png": "[encoded data removed]",
      "text/plain": [
       "<Figure size 761.625x720 with 1 Axes>"
      ]
     },
     "metadata": {},
     "output_type": "display_data"
    }
   ],
   "source": [
    "#Scatterplot for all observations segmented as clusters with respect to BMI and total_cholestrol\n",
    "sns.set_style('whitegrid')\n",
    "sns.lmplot('BMI','totChol',data = numerical_data_new, hue = 'labels',\n",
    "          palette='coolwarm',size=10, aspect=1, fit_reg=False)"
   ]
  },
  {
   "cell_type": "markdown",
   "metadata": {},
   "source": [
    "### VII. Conclusion :\n",
    "* Standardization helped us to first bring all the variable on a standard scale.\n",
    "* The *'Elbow Curve Method'* helped us to obtain the optimal number of clusters, in which we can divide the heart patients  is **3**\n",
    "* From Silhouette score we can see that the objects are well matched to their own cluster compared to other clusters.\n",
    "* Also as most objects have a high value, thus the clustering configuration is appropriate.\n",
    "* Thus our K-Means Clustering has been successful."
   ]
  }
 ],
 "metadata": {
  "kernelspec": {
   "display_name": "Python 3",
   "language": "python",
   "name": "python3"
  },
  "language_info": {
   "codemirror_mode": {
    "name": "ipython",
    "version": 3
   },
   "file_extension": ".py",
   "mimetype": "text/x-python",
   "name": "python",
   "nbconvert_exporter": "python",
   "pygments_lexer": "ipython3",
   "version": "3.7.3"
  }
 },
 "nbformat": 4,
 "nbformat_minor": 2
}
